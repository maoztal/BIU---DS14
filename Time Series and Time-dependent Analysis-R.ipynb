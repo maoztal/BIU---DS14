{
 "cells": [
  {
   "cell_type": "markdown",
   "metadata": {},
   "source": [
    "# Time Series and Time-dependent Analysis\n",
    " \n",
    " \n",
    " \n",
    " \n",
    "# Time Series Analysis\n",
    " \n",
    "AirPassengers is a dataset with the number of passengers from international airlines between 1949 to 1960."
   ]
  },
  {
   "cell_type": "code",
   "execution_count": 1,
   "metadata": {},
   "outputs": [
    {
     "data": {
      "text/html": [
       "<table>\n",
       "<caption>A Time Series: 12 × 12</caption>\n",
       "<thead>\n",
       "\t<tr><th></th><th scope=col>Jan</th><th scope=col>Feb</th><th scope=col>Mar</th><th scope=col>Apr</th><th scope=col>May</th><th scope=col>Jun</th><th scope=col>Jul</th><th scope=col>Aug</th><th scope=col>Sep</th><th scope=col>Oct</th><th scope=col>Nov</th><th scope=col>Dec</th></tr>\n",
       "</thead>\n",
       "<tbody>\n",
       "\t<tr><th scope=row>1949</th><td>112</td><td>118</td><td>132</td><td>129</td><td>121</td><td>135</td><td>148</td><td>148</td><td>136</td><td>119</td><td>104</td><td>118</td></tr>\n",
       "\t<tr><th scope=row>1950</th><td>115</td><td>126</td><td>141</td><td>135</td><td>125</td><td>149</td><td>170</td><td>170</td><td>158</td><td>133</td><td>114</td><td>140</td></tr>\n",
       "\t<tr><th scope=row>1951</th><td>145</td><td>150</td><td>178</td><td>163</td><td>172</td><td>178</td><td>199</td><td>199</td><td>184</td><td>162</td><td>146</td><td>166</td></tr>\n",
       "\t<tr><th scope=row>1952</th><td>171</td><td>180</td><td>193</td><td>181</td><td>183</td><td>218</td><td>230</td><td>242</td><td>209</td><td>191</td><td>172</td><td>194</td></tr>\n",
       "\t<tr><th scope=row>1953</th><td>196</td><td>196</td><td>236</td><td>235</td><td>229</td><td>243</td><td>264</td><td>272</td><td>237</td><td>211</td><td>180</td><td>201</td></tr>\n",
       "\t<tr><th scope=row>1954</th><td>204</td><td>188</td><td>235</td><td>227</td><td>234</td><td>264</td><td>302</td><td>293</td><td>259</td><td>229</td><td>203</td><td>229</td></tr>\n",
       "\t<tr><th scope=row>1955</th><td>242</td><td>233</td><td>267</td><td>269</td><td>270</td><td>315</td><td>364</td><td>347</td><td>312</td><td>274</td><td>237</td><td>278</td></tr>\n",
       "\t<tr><th scope=row>1956</th><td>284</td><td>277</td><td>317</td><td>313</td><td>318</td><td>374</td><td>413</td><td>405</td><td>355</td><td>306</td><td>271</td><td>306</td></tr>\n",
       "\t<tr><th scope=row>1957</th><td>315</td><td>301</td><td>356</td><td>348</td><td>355</td><td>422</td><td>465</td><td>467</td><td>404</td><td>347</td><td>305</td><td>336</td></tr>\n",
       "\t<tr><th scope=row>1958</th><td>340</td><td>318</td><td>362</td><td>348</td><td>363</td><td>435</td><td>491</td><td>505</td><td>404</td><td>359</td><td>310</td><td>337</td></tr>\n",
       "\t<tr><th scope=row>1959</th><td>360</td><td>342</td><td>406</td><td>396</td><td>420</td><td>472</td><td>548</td><td>559</td><td>463</td><td>407</td><td>362</td><td>405</td></tr>\n",
       "\t<tr><th scope=row>1960</th><td>417</td><td>391</td><td>419</td><td>461</td><td>472</td><td>535</td><td>622</td><td>606</td><td>508</td><td>461</td><td>390</td><td>432</td></tr>\n",
       "</tbody>\n",
       "</table>\n"
      ],
      "text/latex": [
       "A Time Series: 12 × 12\n",
       "\\begin{tabular}{r|llllllllllll}\n",
       "  & Jan & Feb & Mar & Apr & May & Jun & Jul & Aug & Sep & Oct & Nov & Dec\\\\\n",
       "\\hline\n",
       "\t1949 & 112 & 118 & 132 & 129 & 121 & 135 & 148 & 148 & 136 & 119 & 104 & 118\\\\\n",
       "\t1950 & 115 & 126 & 141 & 135 & 125 & 149 & 170 & 170 & 158 & 133 & 114 & 140\\\\\n",
       "\t1951 & 145 & 150 & 178 & 163 & 172 & 178 & 199 & 199 & 184 & 162 & 146 & 166\\\\\n",
       "\t1952 & 171 & 180 & 193 & 181 & 183 & 218 & 230 & 242 & 209 & 191 & 172 & 194\\\\\n",
       "\t1953 & 196 & 196 & 236 & 235 & 229 & 243 & 264 & 272 & 237 & 211 & 180 & 201\\\\\n",
       "\t1954 & 204 & 188 & 235 & 227 & 234 & 264 & 302 & 293 & 259 & 229 & 203 & 229\\\\\n",
       "\t1955 & 242 & 233 & 267 & 269 & 270 & 315 & 364 & 347 & 312 & 274 & 237 & 278\\\\\n",
       "\t1956 & 284 & 277 & 317 & 313 & 318 & 374 & 413 & 405 & 355 & 306 & 271 & 306\\\\\n",
       "\t1957 & 315 & 301 & 356 & 348 & 355 & 422 & 465 & 467 & 404 & 347 & 305 & 336\\\\\n",
       "\t1958 & 340 & 318 & 362 & 348 & 363 & 435 & 491 & 505 & 404 & 359 & 310 & 337\\\\\n",
       "\t1959 & 360 & 342 & 406 & 396 & 420 & 472 & 548 & 559 & 463 & 407 & 362 & 405\\\\\n",
       "\t1960 & 417 & 391 & 419 & 461 & 472 & 535 & 622 & 606 & 508 & 461 & 390 & 432\\\\\n",
       "\\end{tabular}\n"
      ],
      "text/markdown": [
       "\n",
       "A Time Series: 12 × 12\n",
       "\n",
       "| <!--/--> | Jan | Feb | Mar | Apr | May | Jun | Jul | Aug | Sep | Oct | Nov | Dec |\n",
       "|---|---|---|---|---|---|---|---|---|---|---|---|---|\n",
       "| 1949 | 112 | 118 | 132 | 129 | 121 | 135 | 148 | 148 | 136 | 119 | 104 | 118 |\n",
       "| 1950 | 115 | 126 | 141 | 135 | 125 | 149 | 170 | 170 | 158 | 133 | 114 | 140 |\n",
       "| 1951 | 145 | 150 | 178 | 163 | 172 | 178 | 199 | 199 | 184 | 162 | 146 | 166 |\n",
       "| 1952 | 171 | 180 | 193 | 181 | 183 | 218 | 230 | 242 | 209 | 191 | 172 | 194 |\n",
       "| 1953 | 196 | 196 | 236 | 235 | 229 | 243 | 264 | 272 | 237 | 211 | 180 | 201 |\n",
       "| 1954 | 204 | 188 | 235 | 227 | 234 | 264 | 302 | 293 | 259 | 229 | 203 | 229 |\n",
       "| 1955 | 242 | 233 | 267 | 269 | 270 | 315 | 364 | 347 | 312 | 274 | 237 | 278 |\n",
       "| 1956 | 284 | 277 | 317 | 313 | 318 | 374 | 413 | 405 | 355 | 306 | 271 | 306 |\n",
       "| 1957 | 315 | 301 | 356 | 348 | 355 | 422 | 465 | 467 | 404 | 347 | 305 | 336 |\n",
       "| 1958 | 340 | 318 | 362 | 348 | 363 | 435 | 491 | 505 | 404 | 359 | 310 | 337 |\n",
       "| 1959 | 360 | 342 | 406 | 396 | 420 | 472 | 548 | 559 | 463 | 407 | 362 | 405 |\n",
       "| 1960 | 417 | 391 | 419 | 461 | 472 | 535 | 622 | 606 | 508 | 461 | 390 | 432 |\n",
       "\n"
      ],
      "text/plain": [
       "     Jan Feb Mar Apr May Jun Jul Aug Sep Oct Nov Dec\n",
       "1949 112 118 132 129 121 135 148 148 136 119 104 118\n",
       "1950 115 126 141 135 125 149 170 170 158 133 114 140\n",
       "1951 145 150 178 163 172 178 199 199 184 162 146 166\n",
       "1952 171 180 193 181 183 218 230 242 209 191 172 194\n",
       "1953 196 196 236 235 229 243 264 272 237 211 180 201\n",
       "1954 204 188 235 227 234 264 302 293 259 229 203 229\n",
       "1955 242 233 267 269 270 315 364 347 312 274 237 278\n",
       "1956 284 277 317 313 318 374 413 405 355 306 271 306\n",
       "1957 315 301 356 348 355 422 465 467 404 347 305 336\n",
       "1958 340 318 362 348 363 435 491 505 404 359 310 337\n",
       "1959 360 342 406 396 420 472 548 559 463 407 362 405\n",
       "1960 417 391 419 461 472 535 622 606 508 461 390 432"
      ]
     },
     "metadata": {},
     "output_type": "display_data"
    }
   ],
   "source": [
    "AirPassengers"
   ]
  },
  {
   "cell_type": "code",
   "execution_count": 3,
   "metadata": {},
   "outputs": [],
   "source": [
    "### create a time-series dataset based on the data\n",
    "\n",
    "dts <- ts(AirPassengers, start=c(1949,1), end=c(1960,12), frequency=12)"
   ]
  },
  {
   "cell_type": "code",
   "execution_count": 4,
   "metadata": {},
   "outputs": [
    {
     "data": {
      "text/html": [
       "<table>\n",
       "<caption>A Time Series: 12 × 12</caption>\n",
       "<thead>\n",
       "\t<tr><th></th><th scope=col>Jan</th><th scope=col>Feb</th><th scope=col>Mar</th><th scope=col>Apr</th><th scope=col>May</th><th scope=col>Jun</th><th scope=col>Jul</th><th scope=col>Aug</th><th scope=col>Sep</th><th scope=col>Oct</th><th scope=col>Nov</th><th scope=col>Dec</th></tr>\n",
       "</thead>\n",
       "<tbody>\n",
       "\t<tr><th scope=row>1949</th><td>112</td><td>118</td><td>132</td><td>129</td><td>121</td><td>135</td><td>148</td><td>148</td><td>136</td><td>119</td><td>104</td><td>118</td></tr>\n",
       "\t<tr><th scope=row>1950</th><td>115</td><td>126</td><td>141</td><td>135</td><td>125</td><td>149</td><td>170</td><td>170</td><td>158</td><td>133</td><td>114</td><td>140</td></tr>\n",
       "\t<tr><th scope=row>1951</th><td>145</td><td>150</td><td>178</td><td>163</td><td>172</td><td>178</td><td>199</td><td>199</td><td>184</td><td>162</td><td>146</td><td>166</td></tr>\n",
       "\t<tr><th scope=row>1952</th><td>171</td><td>180</td><td>193</td><td>181</td><td>183</td><td>218</td><td>230</td><td>242</td><td>209</td><td>191</td><td>172</td><td>194</td></tr>\n",
       "\t<tr><th scope=row>1953</th><td>196</td><td>196</td><td>236</td><td>235</td><td>229</td><td>243</td><td>264</td><td>272</td><td>237</td><td>211</td><td>180</td><td>201</td></tr>\n",
       "\t<tr><th scope=row>1954</th><td>204</td><td>188</td><td>235</td><td>227</td><td>234</td><td>264</td><td>302</td><td>293</td><td>259</td><td>229</td><td>203</td><td>229</td></tr>\n",
       "\t<tr><th scope=row>1955</th><td>242</td><td>233</td><td>267</td><td>269</td><td>270</td><td>315</td><td>364</td><td>347</td><td>312</td><td>274</td><td>237</td><td>278</td></tr>\n",
       "\t<tr><th scope=row>1956</th><td>284</td><td>277</td><td>317</td><td>313</td><td>318</td><td>374</td><td>413</td><td>405</td><td>355</td><td>306</td><td>271</td><td>306</td></tr>\n",
       "\t<tr><th scope=row>1957</th><td>315</td><td>301</td><td>356</td><td>348</td><td>355</td><td>422</td><td>465</td><td>467</td><td>404</td><td>347</td><td>305</td><td>336</td></tr>\n",
       "\t<tr><th scope=row>1958</th><td>340</td><td>318</td><td>362</td><td>348</td><td>363</td><td>435</td><td>491</td><td>505</td><td>404</td><td>359</td><td>310</td><td>337</td></tr>\n",
       "\t<tr><th scope=row>1959</th><td>360</td><td>342</td><td>406</td><td>396</td><td>420</td><td>472</td><td>548</td><td>559</td><td>463</td><td>407</td><td>362</td><td>405</td></tr>\n",
       "\t<tr><th scope=row>1960</th><td>417</td><td>391</td><td>419</td><td>461</td><td>472</td><td>535</td><td>622</td><td>606</td><td>508</td><td>461</td><td>390</td><td>432</td></tr>\n",
       "</tbody>\n",
       "</table>\n"
      ],
      "text/latex": [
       "A Time Series: 12 × 12\n",
       "\\begin{tabular}{r|llllllllllll}\n",
       "  & Jan & Feb & Mar & Apr & May & Jun & Jul & Aug & Sep & Oct & Nov & Dec\\\\\n",
       "\\hline\n",
       "\t1949 & 112 & 118 & 132 & 129 & 121 & 135 & 148 & 148 & 136 & 119 & 104 & 118\\\\\n",
       "\t1950 & 115 & 126 & 141 & 135 & 125 & 149 & 170 & 170 & 158 & 133 & 114 & 140\\\\\n",
       "\t1951 & 145 & 150 & 178 & 163 & 172 & 178 & 199 & 199 & 184 & 162 & 146 & 166\\\\\n",
       "\t1952 & 171 & 180 & 193 & 181 & 183 & 218 & 230 & 242 & 209 & 191 & 172 & 194\\\\\n",
       "\t1953 & 196 & 196 & 236 & 235 & 229 & 243 & 264 & 272 & 237 & 211 & 180 & 201\\\\\n",
       "\t1954 & 204 & 188 & 235 & 227 & 234 & 264 & 302 & 293 & 259 & 229 & 203 & 229\\\\\n",
       "\t1955 & 242 & 233 & 267 & 269 & 270 & 315 & 364 & 347 & 312 & 274 & 237 & 278\\\\\n",
       "\t1956 & 284 & 277 & 317 & 313 & 318 & 374 & 413 & 405 & 355 & 306 & 271 & 306\\\\\n",
       "\t1957 & 315 & 301 & 356 & 348 & 355 & 422 & 465 & 467 & 404 & 347 & 305 & 336\\\\\n",
       "\t1958 & 340 & 318 & 362 & 348 & 363 & 435 & 491 & 505 & 404 & 359 & 310 & 337\\\\\n",
       "\t1959 & 360 & 342 & 406 & 396 & 420 & 472 & 548 & 559 & 463 & 407 & 362 & 405\\\\\n",
       "\t1960 & 417 & 391 & 419 & 461 & 472 & 535 & 622 & 606 & 508 & 461 & 390 & 432\\\\\n",
       "\\end{tabular}\n"
      ],
      "text/markdown": [
       "\n",
       "A Time Series: 12 × 12\n",
       "\n",
       "| <!--/--> | Jan | Feb | Mar | Apr | May | Jun | Jul | Aug | Sep | Oct | Nov | Dec |\n",
       "|---|---|---|---|---|---|---|---|---|---|---|---|---|\n",
       "| 1949 | 112 | 118 | 132 | 129 | 121 | 135 | 148 | 148 | 136 | 119 | 104 | 118 |\n",
       "| 1950 | 115 | 126 | 141 | 135 | 125 | 149 | 170 | 170 | 158 | 133 | 114 | 140 |\n",
       "| 1951 | 145 | 150 | 178 | 163 | 172 | 178 | 199 | 199 | 184 | 162 | 146 | 166 |\n",
       "| 1952 | 171 | 180 | 193 | 181 | 183 | 218 | 230 | 242 | 209 | 191 | 172 | 194 |\n",
       "| 1953 | 196 | 196 | 236 | 235 | 229 | 243 | 264 | 272 | 237 | 211 | 180 | 201 |\n",
       "| 1954 | 204 | 188 | 235 | 227 | 234 | 264 | 302 | 293 | 259 | 229 | 203 | 229 |\n",
       "| 1955 | 242 | 233 | 267 | 269 | 270 | 315 | 364 | 347 | 312 | 274 | 237 | 278 |\n",
       "| 1956 | 284 | 277 | 317 | 313 | 318 | 374 | 413 | 405 | 355 | 306 | 271 | 306 |\n",
       "| 1957 | 315 | 301 | 356 | 348 | 355 | 422 | 465 | 467 | 404 | 347 | 305 | 336 |\n",
       "| 1958 | 340 | 318 | 362 | 348 | 363 | 435 | 491 | 505 | 404 | 359 | 310 | 337 |\n",
       "| 1959 | 360 | 342 | 406 | 396 | 420 | 472 | 548 | 559 | 463 | 407 | 362 | 405 |\n",
       "| 1960 | 417 | 391 | 419 | 461 | 472 | 535 | 622 | 606 | 508 | 461 | 390 | 432 |\n",
       "\n"
      ],
      "text/plain": [
       "     Jan Feb Mar Apr May Jun Jul Aug Sep Oct Nov Dec\n",
       "1949 112 118 132 129 121 135 148 148 136 119 104 118\n",
       "1950 115 126 141 135 125 149 170 170 158 133 114 140\n",
       "1951 145 150 178 163 172 178 199 199 184 162 146 166\n",
       "1952 171 180 193 181 183 218 230 242 209 191 172 194\n",
       "1953 196 196 236 235 229 243 264 272 237 211 180 201\n",
       "1954 204 188 235 227 234 264 302 293 259 229 203 229\n",
       "1955 242 233 267 269 270 315 364 347 312 274 237 278\n",
       "1956 284 277 317 313 318 374 413 405 355 306 271 306\n",
       "1957 315 301 356 348 355 422 465 467 404 347 305 336\n",
       "1958 340 318 362 348 363 435 491 505 404 359 310 337\n",
       "1959 360 342 406 396 420 472 548 559 463 407 362 405\n",
       "1960 417 391 419 461 472 535 622 606 508 461 390 432"
      ]
     },
     "metadata": {},
     "output_type": "display_data"
    }
   ],
   "source": [
    "dts"
   ]
  },
  {
   "cell_type": "code",
   "execution_count": 5,
   "metadata": {},
   "outputs": [
    {
     "data": {
      "image/png": "[encoded data removed]",
      "text/plain": [
       "plot without title"
      ]
     },
     "metadata": {},
     "output_type": "display_data"
    }
   ],
   "source": [
    "## change the size of the graphs\n",
    "options(repr.plot.width = 4, repr.plot.height = 4)\n",
    "plot(dts)"
   ]
  },
  {
   "cell_type": "markdown",
   "metadata": {},
   "source": [
    "## Time Series Decomposition"
   ]
  },
  {
   "cell_type": "code",
   "execution_count": 14,
   "metadata": {},
   "outputs": [],
   "source": [
    "stationary_dts <- decompose(dts)"
   ]
  },
  {
   "cell_type": "code",
   "execution_count": 15,
   "metadata": {},
   "outputs": [
    {
     "data": {
      "image/png": "[encoded data removed]",
      "text/plain": [
       "plot without title"
      ]
     },
     "metadata": {
      "image/png": {
       "height": 420,
       "width": 420
      }
     },
     "output_type": "display_data"
    }
   ],
   "source": [
    "plot(stationary_dts)"
   ]
  },
  {
   "cell_type": "code",
   "execution_count": 16,
   "metadata": {},
   "outputs": [
    {
     "name": "stdout",
     "output_type": "stream",
     "text": [
      "List of 6\n",
      " $ x       : Time-Series [1:144] from 1949 to 1961: 112 118 132 129 121 135 148 148 136 119 ...\n",
      " $ seasonal: Time-Series [1:144] from 1949 to 1961: -24.75 -36.19 -2.24 -8.04 -4.51 ...\n",
      " $ trend   : Time-Series [1:144] from 1949 to 1961: NA NA NA NA NA ...\n",
      " $ random  : Time-Series [1:144] from 1949 to 1961: NA NA NA NA NA ...\n",
      " $ figure  : num [1:12] -24.75 -36.19 -2.24 -8.04 -4.51 ...\n",
      " $ type    : chr \"additive\"\n",
      " - attr(*, \"class\")= chr \"decomposed.ts\"\n"
     ]
    }
   ],
   "source": [
    "str(stationary_dts)"
   ]
  },
  {
   "cell_type": "code",
   "execution_count": 17,
   "metadata": {},
   "outputs": [
    {
     "data": {
      "text/html": [
       "<table>\n",
       "<caption>A Time Series: 12 × 12</caption>\n",
       "<thead>\n",
       "\t<tr><th></th><th scope=col>Jan</th><th scope=col>Feb</th><th scope=col>Mar</th><th scope=col>Apr</th><th scope=col>May</th><th scope=col>Jun</th><th scope=col>Jul</th><th scope=col>Aug</th><th scope=col>Sep</th><th scope=col>Oct</th><th scope=col>Nov</th><th scope=col>Dec</th></tr>\n",
       "</thead>\n",
       "<tbody>\n",
       "\t<tr><th scope=row>1949</th><td>      NA</td><td>      NA</td><td>      NA</td><td>      NA</td><td>      NA</td><td>      NA</td><td>126.7917</td><td>127.2500</td><td>127.9583</td><td>128.5833</td><td>129.0000</td><td>129.7500</td></tr>\n",
       "\t<tr><th scope=row>1950</th><td>131.2500</td><td>133.0833</td><td>134.9167</td><td>136.4167</td><td>137.4167</td><td>138.7500</td><td>140.9167</td><td>143.1667</td><td>145.7083</td><td>148.4167</td><td>151.5417</td><td>154.7083</td></tr>\n",
       "\t<tr><th scope=row>1951</th><td>157.1250</td><td>159.5417</td><td>161.8333</td><td>164.1250</td><td>166.6667</td><td>169.0833</td><td>171.2500</td><td>173.5833</td><td>175.4583</td><td>176.8333</td><td>178.0417</td><td>180.1667</td></tr>\n",
       "\t<tr><th scope=row>1952</th><td>183.1250</td><td>186.2083</td><td>189.0417</td><td>191.2917</td><td>193.5833</td><td>195.8333</td><td>198.0417</td><td>199.7500</td><td>202.2083</td><td>206.2500</td><td>210.4167</td><td>213.3750</td></tr>\n",
       "\t<tr><th scope=row>1953</th><td>215.8333</td><td>218.5000</td><td>220.9167</td><td>222.9167</td><td>224.0833</td><td>224.7083</td><td>225.3333</td><td>225.3333</td><td>224.9583</td><td>224.5833</td><td>224.4583</td><td>225.5417</td></tr>\n",
       "\t<tr><th scope=row>1954</th><td>228.0000</td><td>230.4583</td><td>232.2500</td><td>233.9167</td><td>235.6250</td><td>237.7500</td><td>240.5000</td><td>243.9583</td><td>247.1667</td><td>250.2500</td><td>253.5000</td><td>257.1250</td></tr>\n",
       "\t<tr><th scope=row>1955</th><td>261.8333</td><td>266.6667</td><td>271.1250</td><td>275.2083</td><td>278.5000</td><td>281.9583</td><td>285.7500</td><td>289.3333</td><td>293.2500</td><td>297.1667</td><td>301.0000</td><td>305.4583</td></tr>\n",
       "\t<tr><th scope=row>1956</th><td>309.9583</td><td>314.4167</td><td>318.6250</td><td>321.7500</td><td>324.5000</td><td>327.0833</td><td>329.5417</td><td>331.8333</td><td>334.4583</td><td>337.5417</td><td>340.5417</td><td>344.0833</td></tr>\n",
       "\t<tr><th scope=row>1957</th><td>348.2500</td><td>353.0000</td><td>357.6250</td><td>361.3750</td><td>364.5000</td><td>367.1667</td><td>369.4583</td><td>371.2083</td><td>372.1667</td><td>372.4167</td><td>372.7500</td><td>373.6250</td></tr>\n",
       "\t<tr><th scope=row>1958</th><td>375.2500</td><td>377.9167</td><td>379.5000</td><td>380.0000</td><td>380.7083</td><td>380.9583</td><td>381.8333</td><td>383.6667</td><td>386.5000</td><td>390.3333</td><td>394.7083</td><td>398.6250</td></tr>\n",
       "\t<tr><th scope=row>1959</th><td>402.5417</td><td>407.1667</td><td>411.8750</td><td>416.3333</td><td>420.5000</td><td>425.5000</td><td>430.7083</td><td>435.1250</td><td>437.7083</td><td>440.9583</td><td>445.8333</td><td>450.6250</td></tr>\n",
       "\t<tr><th scope=row>1960</th><td>456.3333</td><td>461.3750</td><td>465.2083</td><td>469.3333</td><td>472.7500</td><td>475.0417</td><td>      NA</td><td>      NA</td><td>      NA</td><td>      NA</td><td>      NA</td><td>      NA</td></tr>\n",
       "</tbody>\n",
       "</table>\n"
      ],
      "text/latex": [
       "A Time Series: 12 × 12\n",
       "\\begin{tabular}{r|llllllllllll}\n",
       "  & Jan & Feb & Mar & Apr & May & Jun & Jul & Aug & Sep & Oct & Nov & Dec\\\\\n",
       "\\hline\n",
       "\t1949 &       NA &       NA &       NA &       NA &       NA &       NA & 126.7917 & 127.2500 & 127.9583 & 128.5833 & 129.0000 & 129.7500\\\\\n",
       "\t1950 & 131.2500 & 133.0833 & 134.9167 & 136.4167 & 137.4167 & 138.7500 & 140.9167 & 143.1667 & 145.7083 & 148.4167 & 151.5417 & 154.7083\\\\\n",
       "\t1951 & 157.1250 & 159.5417 & 161.8333 & 164.1250 & 166.6667 & 169.0833 & 171.2500 & 173.5833 & 175.4583 & 176.8333 & 178.0417 & 180.1667\\\\\n",
       "\t1952 & 183.1250 & 186.2083 & 189.0417 & 191.2917 & 193.5833 & 195.8333 & 198.0417 & 199.7500 & 202.2083 & 206.2500 & 210.4167 & 213.3750\\\\\n",
       "\t1953 & 215.8333 & 218.5000 & 220.9167 & 222.9167 & 224.0833 & 224.7083 & 225.3333 & 225.3333 & 224.9583 & 224.5833 & 224.4583 & 225.5417\\\\\n",
       "\t1954 & 228.0000 & 230.4583 & 232.2500 & 233.9167 & 235.6250 & 237.7500 & 240.5000 & 243.9583 & 247.1667 & 250.2500 & 253.5000 & 257.1250\\\\\n",
       "\t1955 & 261.8333 & 266.6667 & 271.1250 & 275.2083 & 278.5000 & 281.9583 & 285.7500 & 289.3333 & 293.2500 & 297.1667 & 301.0000 & 305.4583\\\\\n",
       "\t1956 & 309.9583 & 314.4167 & 318.6250 & 321.7500 & 324.5000 & 327.0833 & 329.5417 & 331.8333 & 334.4583 & 337.5417 & 340.5417 & 344.0833\\\\\n",
       "\t1957 & 348.2500 & 353.0000 & 357.6250 & 361.3750 & 364.5000 & 367.1667 & 369.4583 & 371.2083 & 372.1667 & 372.4167 & 372.7500 & 373.6250\\\\\n",
       "\t1958 & 375.2500 & 377.9167 & 379.5000 & 380.0000 & 380.7083 & 380.9583 & 381.8333 & 383.6667 & 386.5000 & 390.3333 & 394.7083 & 398.6250\\\\\n",
       "\t1959 & 402.5417 & 407.1667 & 411.8750 & 416.3333 & 420.5000 & 425.5000 & 430.7083 & 435.1250 & 437.7083 & 440.9583 & 445.8333 & 450.6250\\\\\n",
       "\t1960 & 456.3333 & 461.3750 & 465.2083 & 469.3333 & 472.7500 & 475.0417 &       NA &       NA &       NA &       NA &       NA &       NA\\\\\n",
       "\\end{tabular}\n"
      ],
      "text/markdown": [
       "\n",
       "A Time Series: 12 × 12\n",
       "\n",
       "| <!--/--> | Jan | Feb | Mar | Apr | May | Jun | Jul | Aug | Sep | Oct | Nov | Dec |\n",
       "|---|---|---|---|---|---|---|---|---|---|---|---|---|\n",
       "| 1949 |       NA |       NA |       NA |       NA |       NA |       NA | 126.7917 | 127.2500 | 127.9583 | 128.5833 | 129.0000 | 129.7500 |\n",
       "| 1950 | 131.2500 | 133.0833 | 134.9167 | 136.4167 | 137.4167 | 138.7500 | 140.9167 | 143.1667 | 145.7083 | 148.4167 | 151.5417 | 154.7083 |\n",
       "| 1951 | 157.1250 | 159.5417 | 161.8333 | 164.1250 | 166.6667 | 169.0833 | 171.2500 | 173.5833 | 175.4583 | 176.8333 | 178.0417 | 180.1667 |\n",
       "| 1952 | 183.1250 | 186.2083 | 189.0417 | 191.2917 | 193.5833 | 195.8333 | 198.0417 | 199.7500 | 202.2083 | 206.2500 | 210.4167 | 213.3750 |\n",
       "| 1953 | 215.8333 | 218.5000 | 220.9167 | 222.9167 | 224.0833 | 224.7083 | 225.3333 | 225.3333 | 224.9583 | 224.5833 | 224.4583 | 225.5417 |\n",
       "| 1954 | 228.0000 | 230.4583 | 232.2500 | 233.9167 | 235.6250 | 237.7500 | 240.5000 | 243.9583 | 247.1667 | 250.2500 | 253.5000 | 257.1250 |\n",
       "| 1955 | 261.8333 | 266.6667 | 271.1250 | 275.2083 | 278.5000 | 281.9583 | 285.7500 | 289.3333 | 293.2500 | 297.1667 | 301.0000 | 305.4583 |\n",
       "| 1956 | 309.9583 | 314.4167 | 318.6250 | 321.7500 | 324.5000 | 327.0833 | 329.5417 | 331.8333 | 334.4583 | 337.5417 | 340.5417 | 344.0833 |\n",
       "| 1957 | 348.2500 | 353.0000 | 357.6250 | 361.3750 | 364.5000 | 367.1667 | 369.4583 | 371.2083 | 372.1667 | 372.4167 | 372.7500 | 373.6250 |\n",
       "| 1958 | 375.2500 | 377.9167 | 379.5000 | 380.0000 | 380.7083 | 380.9583 | 381.8333 | 383.6667 | 386.5000 | 390.3333 | 394.7083 | 398.6250 |\n",
       "| 1959 | 402.5417 | 407.1667 | 411.8750 | 416.3333 | 420.5000 | 425.5000 | 430.7083 | 435.1250 | 437.7083 | 440.9583 | 445.8333 | 450.6250 |\n",
       "| 1960 | 456.3333 | 461.3750 | 465.2083 | 469.3333 | 472.7500 | 475.0417 |       NA |       NA |       NA |       NA |       NA |       NA |\n",
       "\n"
      ],
      "text/plain": [
       "     Jan      Feb      Mar      Apr      May      Jun      Jul      Aug     \n",
       "1949       NA       NA       NA       NA       NA       NA 126.7917 127.2500\n",
       "1950 131.2500 133.0833 134.9167 136.4167 137.4167 138.7500 140.9167 143.1667\n",
       "1951 157.1250 159.5417 161.8333 164.1250 166.6667 169.0833 171.2500 173.5833\n",
       "1952 183.1250 186.2083 189.0417 191.2917 193.5833 195.8333 198.0417 199.7500\n",
       "1953 215.8333 218.5000 220.9167 222.9167 224.0833 224.7083 225.3333 225.3333\n",
       "1954 228.0000 230.4583 232.2500 233.9167 235.6250 237.7500 240.5000 243.9583\n",
       "1955 261.8333 266.6667 271.1250 275.2083 278.5000 281.9583 285.7500 289.3333\n",
       "1956 309.9583 314.4167 318.6250 321.7500 324.5000 327.0833 329.5417 331.8333\n",
       "1957 348.2500 353.0000 357.6250 361.3750 364.5000 367.1667 369.4583 371.2083\n",
       "1958 375.2500 377.9167 379.5000 380.0000 380.7083 380.9583 381.8333 383.6667\n",
       "1959 402.5417 407.1667 411.8750 416.3333 420.5000 425.5000 430.7083 435.1250\n",
       "1960 456.3333 461.3750 465.2083 469.3333 472.7500 475.0417       NA       NA\n",
       "     Sep      Oct      Nov      Dec     \n",
       "1949 127.9583 128.5833 129.0000 129.7500\n",
       "1950 145.7083 148.4167 151.5417 154.7083\n",
       "1951 175.4583 176.8333 178.0417 180.1667\n",
       "1952 202.2083 206.2500 210.4167 213.3750\n",
       "1953 224.9583 224.5833 224.4583 225.5417\n",
       "1954 247.1667 250.2500 253.5000 257.1250\n",
       "1955 293.2500 297.1667 301.0000 305.4583\n",
       "1956 334.4583 337.5417 340.5417 344.0833\n",
       "1957 372.1667 372.4167 372.7500 373.6250\n",
       "1958 386.5000 390.3333 394.7083 398.6250\n",
       "1959 437.7083 440.9583 445.8333 450.6250\n",
       "1960       NA       NA       NA       NA"
      ]
     },
     "metadata": {},
     "output_type": "display_data"
    }
   ],
   "source": [
    "stationary_dts$trend"
   ]
  },
  {
   "cell_type": "code",
   "execution_count": 18,
   "metadata": {},
   "outputs": [
    {
     "data": {
      "text/html": [
       "<table>\n",
       "<caption>A Time Series: 12 × 12</caption>\n",
       "<thead>\n",
       "\t<tr><th></th><th scope=col>Jan</th><th scope=col>Feb</th><th scope=col>Mar</th><th scope=col>Apr</th><th scope=col>May</th><th scope=col>Jun</th><th scope=col>Jul</th><th scope=col>Aug</th><th scope=col>Sep</th><th scope=col>Oct</th><th scope=col>Nov</th><th scope=col>Dec</th></tr>\n",
       "</thead>\n",
       "<tbody>\n",
       "\t<tr><th scope=row>1949</th><td>-24.748737</td><td>-36.188131</td><td> -2.241162</td><td> -8.036616</td><td> -4.506313</td><td> 35.402778</td><td> 63.830808</td><td> 62.823232</td><td> 16.520202</td><td>-20.642677</td><td>-53.593434</td><td>-28.619949</td></tr>\n",
       "\t<tr><th scope=row>1950</th><td>-24.748737</td><td>-36.188131</td><td> -2.241162</td><td> -8.036616</td><td> -4.506313</td><td> 35.402778</td><td> 63.830808</td><td> 62.823232</td><td> 16.520202</td><td>-20.642677</td><td>-53.593434</td><td>-28.619949</td></tr>\n",
       "\t<tr><th scope=row>1951</th><td>-24.748737</td><td>-36.188131</td><td> -2.241162</td><td> -8.036616</td><td> -4.506313</td><td> 35.402778</td><td> 63.830808</td><td> 62.823232</td><td> 16.520202</td><td>-20.642677</td><td>-53.593434</td><td>-28.619949</td></tr>\n",
       "\t<tr><th scope=row>1952</th><td>-24.748737</td><td>-36.188131</td><td> -2.241162</td><td> -8.036616</td><td> -4.506313</td><td> 35.402778</td><td> 63.830808</td><td> 62.823232</td><td> 16.520202</td><td>-20.642677</td><td>-53.593434</td><td>-28.619949</td></tr>\n",
       "\t<tr><th scope=row>1953</th><td>-24.748737</td><td>-36.188131</td><td> -2.241162</td><td> -8.036616</td><td> -4.506313</td><td> 35.402778</td><td> 63.830808</td><td> 62.823232</td><td> 16.520202</td><td>-20.642677</td><td>-53.593434</td><td>-28.619949</td></tr>\n",
       "\t<tr><th scope=row>1954</th><td>-24.748737</td><td>-36.188131</td><td> -2.241162</td><td> -8.036616</td><td> -4.506313</td><td> 35.402778</td><td> 63.830808</td><td> 62.823232</td><td> 16.520202</td><td>-20.642677</td><td>-53.593434</td><td>-28.619949</td></tr>\n",
       "\t<tr><th scope=row>1955</th><td>-24.748737</td><td>-36.188131</td><td> -2.241162</td><td> -8.036616</td><td> -4.506313</td><td> 35.402778</td><td> 63.830808</td><td> 62.823232</td><td> 16.520202</td><td>-20.642677</td><td>-53.593434</td><td>-28.619949</td></tr>\n",
       "\t<tr><th scope=row>1956</th><td>-24.748737</td><td>-36.188131</td><td> -2.241162</td><td> -8.036616</td><td> -4.506313</td><td> 35.402778</td><td> 63.830808</td><td> 62.823232</td><td> 16.520202</td><td>-20.642677</td><td>-53.593434</td><td>-28.619949</td></tr>\n",
       "\t<tr><th scope=row>1957</th><td>-24.748737</td><td>-36.188131</td><td> -2.241162</td><td> -8.036616</td><td> -4.506313</td><td> 35.402778</td><td> 63.830808</td><td> 62.823232</td><td> 16.520202</td><td>-20.642677</td><td>-53.593434</td><td>-28.619949</td></tr>\n",
       "\t<tr><th scope=row>1958</th><td>-24.748737</td><td>-36.188131</td><td> -2.241162</td><td> -8.036616</td><td> -4.506313</td><td> 35.402778</td><td> 63.830808</td><td> 62.823232</td><td> 16.520202</td><td>-20.642677</td><td>-53.593434</td><td>-28.619949</td></tr>\n",
       "\t<tr><th scope=row>1959</th><td>-24.748737</td><td>-36.188131</td><td> -2.241162</td><td> -8.036616</td><td> -4.506313</td><td> 35.402778</td><td> 63.830808</td><td> 62.823232</td><td> 16.520202</td><td>-20.642677</td><td>-53.593434</td><td>-28.619949</td></tr>\n",
       "\t<tr><th scope=row>1960</th><td>-24.748737</td><td>-36.188131</td><td> -2.241162</td><td> -8.036616</td><td> -4.506313</td><td> 35.402778</td><td> 63.830808</td><td> 62.823232</td><td> 16.520202</td><td>-20.642677</td><td>-53.593434</td><td>-28.619949</td></tr>\n",
       "</tbody>\n",
       "</table>\n"
      ],
      "text/latex": [
       "A Time Series: 12 × 12\n",
       "\\begin{tabular}{r|llllllllllll}\n",
       "  & Jan & Feb & Mar & Apr & May & Jun & Jul & Aug & Sep & Oct & Nov & Dec\\\\\n",
       "\\hline\n",
       "\t1949 & -24.748737 & -36.188131 &  -2.241162 &  -8.036616 &  -4.506313 &  35.402778 &  63.830808 &  62.823232 &  16.520202 & -20.642677 & -53.593434 & -28.619949\\\\\n",
       "\t1950 & -24.748737 & -36.188131 &  -2.241162 &  -8.036616 &  -4.506313 &  35.402778 &  63.830808 &  62.823232 &  16.520202 & -20.642677 & -53.593434 & -28.619949\\\\\n",
       "\t1951 & -24.748737 & -36.188131 &  -2.241162 &  -8.036616 &  -4.506313 &  35.402778 &  63.830808 &  62.823232 &  16.520202 & -20.642677 & -53.593434 & -28.619949\\\\\n",
       "\t1952 & -24.748737 & -36.188131 &  -2.241162 &  -8.036616 &  -4.506313 &  35.402778 &  63.830808 &  62.823232 &  16.520202 & -20.642677 & -53.593434 & -28.619949\\\\\n",
       "\t1953 & -24.748737 & -36.188131 &  -2.241162 &  -8.036616 &  -4.506313 &  35.402778 &  63.830808 &  62.823232 &  16.520202 & -20.642677 & -53.593434 & -28.619949\\\\\n",
       "\t1954 & -24.748737 & -36.188131 &  -2.241162 &  -8.036616 &  -4.506313 &  35.402778 &  63.830808 &  62.823232 &  16.520202 & -20.642677 & -53.593434 & -28.619949\\\\\n",
       "\t1955 & -24.748737 & -36.188131 &  -2.241162 &  -8.036616 &  -4.506313 &  35.402778 &  63.830808 &  62.823232 &  16.520202 & -20.642677 & -53.593434 & -28.619949\\\\\n",
       "\t1956 & -24.748737 & -36.188131 &  -2.241162 &  -8.036616 &  -4.506313 &  35.402778 &  63.830808 &  62.823232 &  16.520202 & -20.642677 & -53.593434 & -28.619949\\\\\n",
       "\t1957 & -24.748737 & -36.188131 &  -2.241162 &  -8.036616 &  -4.506313 &  35.402778 &  63.830808 &  62.823232 &  16.520202 & -20.642677 & -53.593434 & -28.619949\\\\\n",
       "\t1958 & -24.748737 & -36.188131 &  -2.241162 &  -8.036616 &  -4.506313 &  35.402778 &  63.830808 &  62.823232 &  16.520202 & -20.642677 & -53.593434 & -28.619949\\\\\n",
       "\t1959 & -24.748737 & -36.188131 &  -2.241162 &  -8.036616 &  -4.506313 &  35.402778 &  63.830808 &  62.823232 &  16.520202 & -20.642677 & -53.593434 & -28.619949\\\\\n",
       "\t1960 & -24.748737 & -36.188131 &  -2.241162 &  -8.036616 &  -4.506313 &  35.402778 &  63.830808 &  62.823232 &  16.520202 & -20.642677 & -53.593434 & -28.619949\\\\\n",
       "\\end{tabular}\n"
      ],
      "text/markdown": [
       "\n",
       "A Time Series: 12 × 12\n",
       "\n",
       "| <!--/--> | Jan | Feb | Mar | Apr | May | Jun | Jul | Aug | Sep | Oct | Nov | Dec |\n",
       "|---|---|---|---|---|---|---|---|---|---|---|---|---|\n",
       "| 1949 | -24.748737 | -36.188131 |  -2.241162 |  -8.036616 |  -4.506313 |  35.402778 |  63.830808 |  62.823232 |  16.520202 | -20.642677 | -53.593434 | -28.619949 |\n",
       "| 1950 | -24.748737 | -36.188131 |  -2.241162 |  -8.036616 |  -4.506313 |  35.402778 |  63.830808 |  62.823232 |  16.520202 | -20.642677 | -53.593434 | -28.619949 |\n",
       "| 1951 | -24.748737 | -36.188131 |  -2.241162 |  -8.036616 |  -4.506313 |  35.402778 |  63.830808 |  62.823232 |  16.520202 | -20.642677 | -53.593434 | -28.619949 |\n",
       "| 1952 | -24.748737 | -36.188131 |  -2.241162 |  -8.036616 |  -4.506313 |  35.402778 |  63.830808 |  62.823232 |  16.520202 | -20.642677 | -53.593434 | -28.619949 |\n",
       "| 1953 | -24.748737 | -36.188131 |  -2.241162 |  -8.036616 |  -4.506313 |  35.402778 |  63.830808 |  62.823232 |  16.520202 | -20.642677 | -53.593434 | -28.619949 |\n",
       "| 1954 | -24.748737 | -36.188131 |  -2.241162 |  -8.036616 |  -4.506313 |  35.402778 |  63.830808 |  62.823232 |  16.520202 | -20.642677 | -53.593434 | -28.619949 |\n",
       "| 1955 | -24.748737 | -36.188131 |  -2.241162 |  -8.036616 |  -4.506313 |  35.402778 |  63.830808 |  62.823232 |  16.520202 | -20.642677 | -53.593434 | -28.619949 |\n",
       "| 1956 | -24.748737 | -36.188131 |  -2.241162 |  -8.036616 |  -4.506313 |  35.402778 |  63.830808 |  62.823232 |  16.520202 | -20.642677 | -53.593434 | -28.619949 |\n",
       "| 1957 | -24.748737 | -36.188131 |  -2.241162 |  -8.036616 |  -4.506313 |  35.402778 |  63.830808 |  62.823232 |  16.520202 | -20.642677 | -53.593434 | -28.619949 |\n",
       "| 1958 | -24.748737 | -36.188131 |  -2.241162 |  -8.036616 |  -4.506313 |  35.402778 |  63.830808 |  62.823232 |  16.520202 | -20.642677 | -53.593434 | -28.619949 |\n",
       "| 1959 | -24.748737 | -36.188131 |  -2.241162 |  -8.036616 |  -4.506313 |  35.402778 |  63.830808 |  62.823232 |  16.520202 | -20.642677 | -53.593434 | -28.619949 |\n",
       "| 1960 | -24.748737 | -36.188131 |  -2.241162 |  -8.036616 |  -4.506313 |  35.402778 |  63.830808 |  62.823232 |  16.520202 | -20.642677 | -53.593434 | -28.619949 |\n",
       "\n"
      ],
      "text/plain": [
       "     Jan        Feb        Mar        Apr        May        Jun       \n",
       "1949 -24.748737 -36.188131  -2.241162  -8.036616  -4.506313  35.402778\n",
       "1950 -24.748737 -36.188131  -2.241162  -8.036616  -4.506313  35.402778\n",
       "1951 -24.748737 -36.188131  -2.241162  -8.036616  -4.506313  35.402778\n",
       "1952 -24.748737 -36.188131  -2.241162  -8.036616  -4.506313  35.402778\n",
       "1953 -24.748737 -36.188131  -2.241162  -8.036616  -4.506313  35.402778\n",
       "1954 -24.748737 -36.188131  -2.241162  -8.036616  -4.506313  35.402778\n",
       "1955 -24.748737 -36.188131  -2.241162  -8.036616  -4.506313  35.402778\n",
       "1956 -24.748737 -36.188131  -2.241162  -8.036616  -4.506313  35.402778\n",
       "1957 -24.748737 -36.188131  -2.241162  -8.036616  -4.506313  35.402778\n",
       "1958 -24.748737 -36.188131  -2.241162  -8.036616  -4.506313  35.402778\n",
       "1959 -24.748737 -36.188131  -2.241162  -8.036616  -4.506313  35.402778\n",
       "1960 -24.748737 -36.188131  -2.241162  -8.036616  -4.506313  35.402778\n",
       "     Jul        Aug        Sep        Oct        Nov        Dec       \n",
       "1949  63.830808  62.823232  16.520202 -20.642677 -53.593434 -28.619949\n",
       "1950  63.830808  62.823232  16.520202 -20.642677 -53.593434 -28.619949\n",
       "1951  63.830808  62.823232  16.520202 -20.642677 -53.593434 -28.619949\n",
       "1952  63.830808  62.823232  16.520202 -20.642677 -53.593434 -28.619949\n",
       "1953  63.830808  62.823232  16.520202 -20.642677 -53.593434 -28.619949\n",
       "1954  63.830808  62.823232  16.520202 -20.642677 -53.593434 -28.619949\n",
       "1955  63.830808  62.823232  16.520202 -20.642677 -53.593434 -28.619949\n",
       "1956  63.830808  62.823232  16.520202 -20.642677 -53.593434 -28.619949\n",
       "1957  63.830808  62.823232  16.520202 -20.642677 -53.593434 -28.619949\n",
       "1958  63.830808  62.823232  16.520202 -20.642677 -53.593434 -28.619949\n",
       "1959  63.830808  62.823232  16.520202 -20.642677 -53.593434 -28.619949\n",
       "1960  63.830808  62.823232  16.520202 -20.642677 -53.593434 -28.619949"
      ]
     },
     "metadata": {},
     "output_type": "display_data"
    }
   ],
   "source": [
    "stationary_dts$seasonal"
   ]
  },
  {
   "cell_type": "markdown",
   "metadata": {},
   "source": [
    "### Predicting the future tendency using ARIMA regression\n",
    " \n",
    "To be able to run the ARIMA model, we have to determine three parameters: p, d ,q. They derivative parts of the AR-I-MA. The p parameter is obtined by examining the autocorrelation of the series (AR). The q parameter determinates the moving average (MA) part. The d parameter indicates the number of nonseasonal differences needed for stationarity. We need to determine the correct time lag to define the parameters of the model by running the autocorrelation (acf) and partial autocorrelation (pacf) functions.\n"
   ]
  },
  {
   "cell_type": "code",
   "execution_count": 12,
   "metadata": {},
   "outputs": [
    {
     "data": {
      "image/png": "[encoded data removed]",
      "text/plain": [
       "Plot with title “Series  dts”"
      ]
     },
     "metadata": {},
     "output_type": "display_data"
    }
   ],
   "source": [
    "acf(dts)"
   ]
  },
  {
   "cell_type": "markdown",
   "metadata": {},
   "source": [
    "On our data, acf doesn't show us a useful value for our parameters, as all the data is over the confidence values (blue dotted lines)."
   ]
  },
  {
   "cell_type": "code",
   "execution_count": 10,
   "metadata": {},
   "outputs": [
    {
     "data": {
      "image/png": "[encoded data removed]",
      "text/plain": [
       "Plot with title “Series  dts”"
      ]
     },
     "metadata": {},
     "output_type": "display_data"
    }
   ],
   "source": [
    "pacf(dts)"
   ]
  },
  {
   "cell_type": "markdown",
   "metadata": {},
   "source": [
    "On the other hand, the pacf function show that the first lag is positive and outside than the confidence levels (blue dotted line). The second lag was negative and was outside the confidence levels. The third and following lags were lower and inside the confidence levels. Thus, the value that define our time lag for the model is 2.\n",
    " \n",
    "The d parameter is defined by the integrative part of the model and is defined by the difference subtracting its current and previous values d times.\n",
    " \n",
    "The q part of the model is determined by the moving average (MA) of the model. \n",
    "\n",
    "We will begin assumming the d and q as zero.\n",
    " \n",
    "Finally, having the required parameters, we proced to run the arima model as:\n",
    "<code> arima(data, order=c(p,d,q)) </code>"
   ]
  },
  {
   "cell_type": "code",
   "execution_count": 7,
   "metadata": {},
   "outputs": [
    {
     "data": {
      "text/plain": [
       "\n",
       "Call:\n",
       "arima(x = dts, order = c(2, 0, 0))\n",
       "\n",
       "Coefficients:\n",
       "         ar1      ar2  intercept\n",
       "      1.2831  -0.3322   280.4696\n",
       "s.e.  0.0786   0.0792    49.4423\n",
       "\n",
       "sigma^2 estimated as 995.9:  log likelihood = -702.82,  aic = 1413.64"
      ]
     },
     "metadata": {},
     "output_type": "display_data"
    }
   ],
   "source": [
    "dts_arima <- arima(dts, order=c(2,0,0))\n",
    "dts_arima"
   ]
  },
  {
   "cell_type": "markdown",
   "metadata": {},
   "source": [
    "The ARIMA model gives us the formula for calculating the next value in the data series. The values of the betas are provided by the ar1 and ar2 variables. the formula is like most of the regressions we have learned:\n",
    "\n",
    "<code> Xt = (1.2831 * Xt-1) + (-0.3322 * Xt-2) + 280.4696 </code>\n",
    "\n"
   ]
  },
  {
   "cell_type": "markdown",
   "metadata": {},
   "source": [
    "## Forecasting using the ARIMA predictive model"
   ]
  },
  {
   "cell_type": "code",
   "execution_count": 8,
   "metadata": {},
   "outputs": [
    {
     "data": {
      "text/plain": [
       "         Point Forecast    Lo 80    Hi 80     Lo 95    Hi 95\n",
       "Jan 1961       438.5173 398.0744 478.9602 376.66528 500.3693\n",
       "Feb 1961       432.9272 367.1351 498.7192 332.30692 533.5474\n",
       "Mar 1961       423.5892 339.0097 508.1686 294.23610 552.9423\n",
       "Apr 1961       413.4643 314.7185 512.2101 262.44564 564.4830\n",
       "May 1961       403.5748 293.8972 513.2524 235.83742 571.3123\n",
       "Jun 1961       394.2488 275.9556 512.5421 213.33491 575.1628\n",
       "Jul 1961       385.5677 260.3676 510.7678 194.09063 577.0447\n",
       "Aug 1961       377.5267 246.7165 508.3369 177.46972 577.5836\n",
       "Sep 1961       370.0929 234.6801 505.5057 162.99691 577.1889\n",
       "Oct 1961       363.2256 224.0079 502.4434 150.31049 576.1408\n",
       "Nov 1961       356.8835 214.5017 499.2653 139.12937 574.6377\n",
       "Dec 1961       351.0271 206.0021 496.0521 129.23046 572.8237\n",
       "Jan 1962       345.6194 198.3782 492.8605 120.43343 570.8053\n",
       "Feb 1962       340.6260 191.5214 489.7306 112.59021 568.6619\n",
       "Mar 1962       336.0154 185.3402 486.6906 105.57763 566.4532\n",
       "Apr 1962       331.7582 179.7568 483.7595  99.29209 564.2242\n",
       "May 1962       327.8272 174.7042 480.9502  93.64571 562.0087\n",
       "Jun 1962       324.1975 170.1246 478.2704  88.56336 559.8317\n",
       "Jul 1962       320.8460 165.9679 475.7241  83.98038 557.7117\n",
       "Aug 1962       317.7514 162.1901 473.3128  79.84085 555.6620\n",
       "Sep 1962       314.8940 158.7525 471.0355  76.09614 553.6918\n",
       "Oct 1962       312.2556 155.6211 468.8900  72.70384 551.8073\n",
       "Nov 1962       309.8194 152.7659 466.8729  69.62675 550.0120\n",
       "Dec 1962       307.5699 150.1600 464.9798  66.83221 548.3075"
      ]
     },
     "metadata": {},
     "output_type": "display_data"
    }
   ],
   "source": [
    "library(forecast)\n",
    "dts_fit <- forecast(dts_arima)\n",
    "dts_fit"
   ]
  },
  {
   "cell_type": "code",
   "execution_count": 9,
   "metadata": {},
   "outputs": [
    {
     "data": {
      "image/png": "[encoded data removed]",
      "text/plain": [
       "Plot with title \"Forecasts from ARIMA(2,0,0) with non-zero mean\""
      ]
     },
     "metadata": {
      "image/png": {
       "height": 420,
       "width": 420
      }
     },
     "output_type": "display_data"
    }
   ],
   "source": [
    "plot(dts_fit)"
   ]
  },
  {
   "cell_type": "markdown",
   "metadata": {},
   "source": [
    "For finding the optimal ARIMA model we have to change the values of d and q and compare the models using the AIC statistic (the less the best).\n",
    " \n",
    "R have a function that search for the best model automatically: <i> auto.arima </i>\n",
    " \n"
   ]
  },
  {
   "cell_type": "code",
   "execution_count": 10,
   "metadata": {},
   "outputs": [
    {
     "data": {
      "text/plain": [
       "Series: dts \n",
       "ARIMA(2,1,1)(0,1,0)[12] \n",
       "\n",
       "Coefficients:\n",
       "         ar1     ar2      ma1\n",
       "      0.5960  0.2143  -0.9819\n",
       "s.e.  0.0888  0.0880   0.0292\n",
       "\n",
       "sigma^2 estimated as 132.3:  log likelihood=-504.92\n",
       "AIC=1017.85   AICc=1018.17   BIC=1029.35"
      ]
     },
     "metadata": {},
     "output_type": "display_data"
    }
   ],
   "source": [
    "dts_autoarima <- auto.arima(dts)\n",
    "dts_autoarima"
   ]
  },
  {
   "cell_type": "code",
   "execution_count": 11,
   "metadata": {},
   "outputs": [
    {
     "data": {
      "text/plain": [
       "         Point Forecast    Lo 80    Hi 80    Lo 95    Hi 95\n",
       "Jan 1961       445.6349 430.8903 460.3795 423.0851 468.1847\n",
       "Feb 1961       420.3950 403.0907 437.6993 393.9304 446.8596\n",
       "Mar 1961       449.1983 429.7726 468.6240 419.4892 478.9074\n",
       "Apr 1961       491.8399 471.0270 512.6529 460.0092 523.6707\n",
       "May 1961       503.3945 481.5559 525.2330 469.9953 536.7937\n",
       "Jun 1961       566.8624 544.2637 589.4612 532.3007 601.4242\n",
       "Jul 1961       654.2602 631.0820 677.4383 618.8122 689.7081\n",
       "Aug 1961       638.5975 614.9704 662.2246 602.4630 674.7320\n",
       "Sep 1961       540.8837 516.9028 564.8647 504.2081 577.5594\n",
       "Oct 1961       494.1266 469.8624 518.3909 457.0177 531.2356\n",
       "Nov 1961       423.3327 398.8381 447.8273 385.8715 460.7939\n",
       "Dec 1961       465.5076 440.8229 490.1923 427.7556 503.2596\n",
       "Jan 1962       479.2908 448.9986 509.5831 432.9629 525.6188\n",
       "Feb 1962       454.1768 421.7184 486.6353 404.5359 503.8178\n",
       "Mar 1962       483.0870 448.7343 517.4396 430.5491 535.6248\n",
       "Apr 1962       525.8193 490.1122 561.5263 471.2101 580.4284\n",
       "May 1962       537.4507 500.6863 574.2151 481.2244 593.6770\n",
       "Jun 1962       600.9839 563.3924 638.5754 543.4927 658.4752\n",
       "Jul 1962       688.4370 650.1834 726.6907 629.9331 746.9410\n",
       "Aug 1962       672.8213 634.0292 711.6134 613.4940 732.1487\n",
       "Sep 1962       575.1475 535.9102 614.3847 515.1393 635.1557\n",
       "Oct 1962       528.4242 488.8131 568.0352 467.8443 589.0040\n",
       "Nov 1962       457.6590 417.7293 497.5886 396.5918 518.7261\n",
       "Dec 1962       499.8582 459.6529 540.0634 438.3695 561.3468"
      ]
     },
     "metadata": {},
     "output_type": "display_data"
    }
   ],
   "source": [
    "dts_autoforecast <- forecast(dts_autoarima)\n",
    "dts_autoforecast"
   ]
  },
  {
   "cell_type": "code",
   "execution_count": 12,
   "metadata": {},
   "outputs": [
    {
     "data": {
      "image/png": "[encoded data removed]",
      "text/plain": [
       "Plot with title \"Forecasts from ARIMA(2,1,1)(0,1,0)[12]\""
      ]
     },
     "metadata": {
      "image/png": {
       "height": 420,
       "width": 420
      }
     },
     "output_type": "display_data"
    }
   ],
   "source": [
    "plot(dts_autoforecast)"
   ]
  },
  {
   "cell_type": "markdown",
   "metadata": {},
   "source": [
    "# Time-dependent Analysis"
   ]
  },
  {
   "cell_type": "code",
   "execution_count": 19,
   "metadata": {},
   "outputs": [
    {
     "name": "stderr",
     "output_type": "stream",
     "text": [
      "Warning message:\n",
      "\"package 'dplyr' was built under R version 4.0.2\"\n",
      "\n",
      "Attaching package: 'dplyr'\n",
      "\n",
      "\n",
      "The following objects are masked from 'package:stats':\n",
      "\n",
      "    filter, lag\n",
      "\n",
      "\n",
      "The following objects are masked from 'package:base':\n",
      "\n",
      "    intersect, setdiff, setequal, union\n",
      "\n",
      "\n",
      "Warning message:\n",
      "\"package 'ggplot2' was built under R version 4.0.2\"\n"
     ]
    }
   ],
   "source": [
    "library(dplyr)\n",
    "library(ggplot2)\n",
    "library(survival)\n",
    "library(mechkar)"
   ]
  },
  {
   "cell_type": "code",
   "execution_count": 20,
   "metadata": {},
   "outputs": [
    {
     "data": {
      "text/html": [
       "<table>\n",
       "<caption>A data.frame: 9 × 2</caption>\n",
       "<thead>\n",
       "\t<tr><th scope=col>time</th><th scope=col>status</th></tr>\n",
       "\t<tr><th scope=col>&lt;dbl&gt;</th><th scope=col>&lt;dbl&gt;</th></tr>\n",
       "</thead>\n",
       "<tbody>\n",
       "\t<tr><td>3</td><td>1</td></tr>\n",
       "\t<tr><td>4</td><td>1</td></tr>\n",
       "\t<tr><td>2</td><td>0</td></tr>\n",
       "\t<tr><td>4</td><td>1</td></tr>\n",
       "\t<tr><td>3</td><td>0</td></tr>\n",
       "\t<tr><td>1</td><td>1</td></tr>\n",
       "\t<tr><td>5</td><td>1</td></tr>\n",
       "\t<tr><td>6</td><td>0</td></tr>\n",
       "\t<tr><td>4</td><td>1</td></tr>\n",
       "</tbody>\n",
       "</table>\n"
      ],
      "text/latex": [
       "A data.frame: 9 × 2\n",
       "\\begin{tabular}{ll}\n",
       " time & status\\\\\n",
       " <dbl> & <dbl>\\\\\n",
       "\\hline\n",
       "\t 3 & 1\\\\\n",
       "\t 4 & 1\\\\\n",
       "\t 2 & 0\\\\\n",
       "\t 4 & 1\\\\\n",
       "\t 3 & 0\\\\\n",
       "\t 1 & 1\\\\\n",
       "\t 5 & 1\\\\\n",
       "\t 6 & 0\\\\\n",
       "\t 4 & 1\\\\\n",
       "\\end{tabular}\n"
      ],
      "text/markdown": [
       "\n",
       "A data.frame: 9 × 2\n",
       "\n",
       "| time &lt;dbl&gt; | status &lt;dbl&gt; |\n",
       "|---|---|\n",
       "| 3 | 1 |\n",
       "| 4 | 1 |\n",
       "| 2 | 0 |\n",
       "| 4 | 1 |\n",
       "| 3 | 0 |\n",
       "| 1 | 1 |\n",
       "| 5 | 1 |\n",
       "| 6 | 0 |\n",
       "| 4 | 1 |\n",
       "\n"
      ],
      "text/plain": [
       "  time status\n",
       "1 3    1     \n",
       "2 4    1     \n",
       "3 2    0     \n",
       "4 4    1     \n",
       "5 3    0     \n",
       "6 1    1     \n",
       "7 5    1     \n",
       "8 6    0     \n",
       "9 4    1     "
      ]
     },
     "metadata": {},
     "output_type": "display_data"
    }
   ],
   "source": [
    "time <- c(3,4,2,4,3,1,5,6,4)\n",
    "status <- c(1,1,0,1,0,1,1,0,1)\n",
    "\n",
    "df <- data.frame(time=time, status=status)\n",
    "df"
   ]
  },
  {
   "cell_type": "markdown",
   "metadata": {},
   "source": [
    "### Survival function"
   ]
  },
  {
   "cell_type": "code",
   "execution_count": 21,
   "metadata": {},
   "outputs": [],
   "source": [
    "f1 <- survfit(Surv(time, status) ~ 1, data = df)"
   ]
  },
  {
   "cell_type": "code",
   "execution_count": 22,
   "metadata": {},
   "outputs": [
    {
     "data": {
      "text/plain": [
       "Call: survfit(formula = Surv(time, status) ~ 1, data = df)\n",
       "\n",
       " time n.risk n.event survival std.err lower 95% CI upper 95% CI\n",
       "    1      9       1    0.889   0.105       0.7056        1.000\n",
       "    3      7       1    0.762   0.148       0.5208        1.000\n",
       "    4      5       3    0.305   0.177       0.0976        0.952\n",
       "    5      2       1    0.152   0.139       0.0253        0.916"
      ]
     },
     "metadata": {},
     "output_type": "display_data"
    }
   ],
   "source": [
    "summary(f1)"
   ]
  },
  {
   "cell_type": "code",
   "execution_count": 14,
   "metadata": {},
   "outputs": [
    {
     "data": {
      "image/png": "[encoded data removed]",
      "text/plain": [
       "plot without title"
      ]
     },
     "metadata": {
      "image/png": {
       "height": 420,
       "width": 420
      }
     },
     "output_type": "display_data"
    }
   ],
   "source": [
    "plot(f1)"
   ]
  },
  {
   "cell_type": "markdown",
   "metadata": {},
   "source": [
    "### Lung cancer survival"
   ]
  },
  {
   "cell_type": "code",
   "execution_count": 23,
   "metadata": {},
   "outputs": [],
   "source": [
    "?lung"
   ]
  },
  {
   "cell_type": "code",
   "execution_count": 16,
   "metadata": {},
   "outputs": [
    {
     "data": {
      "text/html": [
       "<table>\n",
       "<caption>A data.frame: 6 × 10</caption>\n",
       "<thead>\n",
       "\t<tr><th></th><th scope=col>inst</th><th scope=col>time</th><th scope=col>status</th><th scope=col>age</th><th scope=col>sex</th><th scope=col>ph.ecog</th><th scope=col>ph.karno</th><th scope=col>pat.karno</th><th scope=col>meal.cal</th><th scope=col>wt.loss</th></tr>\n",
       "\t<tr><th></th><th scope=col>&lt;dbl&gt;</th><th scope=col>&lt;dbl&gt;</th><th scope=col>&lt;dbl&gt;</th><th scope=col>&lt;dbl&gt;</th><th scope=col>&lt;dbl&gt;</th><th scope=col>&lt;dbl&gt;</th><th scope=col>&lt;dbl&gt;</th><th scope=col>&lt;dbl&gt;</th><th scope=col>&lt;dbl&gt;</th><th scope=col>&lt;dbl&gt;</th></tr>\n",
       "</thead>\n",
       "<tbody>\n",
       "\t<tr><th scope=row>1</th><td> 3</td><td> 306</td><td>2</td><td>74</td><td>1</td><td>1</td><td> 90</td><td>100</td><td>1175</td><td>NA</td></tr>\n",
       "\t<tr><th scope=row>2</th><td> 3</td><td> 455</td><td>2</td><td>68</td><td>1</td><td>0</td><td> 90</td><td> 90</td><td>1225</td><td>15</td></tr>\n",
       "\t<tr><th scope=row>3</th><td> 3</td><td>1010</td><td>1</td><td>56</td><td>1</td><td>0</td><td> 90</td><td> 90</td><td>  NA</td><td>15</td></tr>\n",
       "\t<tr><th scope=row>4</th><td> 5</td><td> 210</td><td>2</td><td>57</td><td>1</td><td>1</td><td> 90</td><td> 60</td><td>1150</td><td>11</td></tr>\n",
       "\t<tr><th scope=row>5</th><td> 1</td><td> 883</td><td>2</td><td>60</td><td>1</td><td>0</td><td>100</td><td> 90</td><td>  NA</td><td> 0</td></tr>\n",
       "\t<tr><th scope=row>6</th><td>12</td><td>1022</td><td>1</td><td>74</td><td>1</td><td>1</td><td> 50</td><td> 80</td><td> 513</td><td> 0</td></tr>\n",
       "</tbody>\n",
       "</table>\n"
      ],
      "text/latex": [
       "A data.frame: 6 × 10\n",
       "\\begin{tabular}{r|llllllllll}\n",
       "  & inst & time & status & age & sex & ph.ecog & ph.karno & pat.karno & meal.cal & wt.loss\\\\\n",
       "  & <dbl> & <dbl> & <dbl> & <dbl> & <dbl> & <dbl> & <dbl> & <dbl> & <dbl> & <dbl>\\\\\n",
       "\\hline\n",
       "\t1 &  3 &  306 & 2 & 74 & 1 & 1 &  90 & 100 & 1175 & NA\\\\\n",
       "\t2 &  3 &  455 & 2 & 68 & 1 & 0 &  90 &  90 & 1225 & 15\\\\\n",
       "\t3 &  3 & 1010 & 1 & 56 & 1 & 0 &  90 &  90 &   NA & 15\\\\\n",
       "\t4 &  5 &  210 & 2 & 57 & 1 & 1 &  90 &  60 & 1150 & 11\\\\\n",
       "\t5 &  1 &  883 & 2 & 60 & 1 & 0 & 100 &  90 &   NA &  0\\\\\n",
       "\t6 & 12 & 1022 & 1 & 74 & 1 & 1 &  50 &  80 &  513 &  0\\\\\n",
       "\\end{tabular}\n"
      ],
      "text/markdown": [
       "\n",
       "A data.frame: 6 × 10\n",
       "\n",
       "| <!--/--> | inst &lt;dbl&gt; | time &lt;dbl&gt; | status &lt;dbl&gt; | age &lt;dbl&gt; | sex &lt;dbl&gt; | ph.ecog &lt;dbl&gt; | ph.karno &lt;dbl&gt; | pat.karno &lt;dbl&gt; | meal.cal &lt;dbl&gt; | wt.loss &lt;dbl&gt; |\n",
       "|---|---|---|---|---|---|---|---|---|---|---|\n",
       "| 1 |  3 |  306 | 2 | 74 | 1 | 1 |  90 | 100 | 1175 | NA |\n",
       "| 2 |  3 |  455 | 2 | 68 | 1 | 0 |  90 |  90 | 1225 | 15 |\n",
       "| 3 |  3 | 1010 | 1 | 56 | 1 | 0 |  90 |  90 |   NA | 15 |\n",
       "| 4 |  5 |  210 | 2 | 57 | 1 | 1 |  90 |  60 | 1150 | 11 |\n",
       "| 5 |  1 |  883 | 2 | 60 | 1 | 0 | 100 |  90 |   NA |  0 |\n",
       "| 6 | 12 | 1022 | 1 | 74 | 1 | 1 |  50 |  80 |  513 |  0 |\n",
       "\n"
      ],
      "text/plain": [
       "  inst time status age sex ph.ecog ph.karno pat.karno meal.cal wt.loss\n",
       "1  3    306 2      74  1   1        90      100       1175     NA     \n",
       "2  3    455 2      68  1   0        90       90       1225     15     \n",
       "3  3   1010 1      56  1   0        90       90         NA     15     \n",
       "4  5    210 2      57  1   1        90       60       1150     11     \n",
       "5  1    883 2      60  1   0       100       90         NA      0     \n",
       "6 12   1022 1      74  1   1        50       80        513      0     "
      ]
     },
     "metadata": {},
     "output_type": "display_data"
    }
   ],
   "source": [
    "head(lung)"
   ]
  },
  {
   "cell_type": "code",
   "execution_count": 24,
   "metadata": {},
   "outputs": [],
   "source": [
    "lung <- lung\n",
    "lung$sex <- factor(lung$sex, levels=c(1,2), labels=c(\"M\",\"F\"))"
   ]
  },
  {
   "cell_type": "code",
   "execution_count": 25,
   "metadata": {},
   "outputs": [
    {
     "data": {
      "text/plain": [
       "Call: survfit(formula = Surv(time, status) ~ 1, data = lung)\n",
       "\n",
       " time n.risk n.event survival std.err lower 95% CI upper 95% CI\n",
       "    5    228       1   0.9956 0.00438       0.9871        1.000\n",
       "   11    227       3   0.9825 0.00869       0.9656        1.000\n",
       "   12    224       1   0.9781 0.00970       0.9592        0.997\n",
       "   13    223       2   0.9693 0.01142       0.9472        0.992\n",
       "   15    221       1   0.9649 0.01219       0.9413        0.989\n",
       "   26    220       1   0.9605 0.01290       0.9356        0.986\n",
       "   30    219       1   0.9561 0.01356       0.9299        0.983\n",
       "   31    218       1   0.9518 0.01419       0.9243        0.980\n",
       "   53    217       2   0.9430 0.01536       0.9134        0.974\n",
       "   54    215       1   0.9386 0.01590       0.9079        0.970\n",
       "   59    214       1   0.9342 0.01642       0.9026        0.967\n",
       "   60    213       2   0.9254 0.01740       0.8920        0.960\n",
       "   61    211       1   0.9211 0.01786       0.8867        0.957\n",
       "   62    210       1   0.9167 0.01830       0.8815        0.953\n",
       "   65    209       2   0.9079 0.01915       0.8711        0.946\n",
       "   71    207       1   0.9035 0.01955       0.8660        0.943\n",
       "   79    206       1   0.8991 0.01995       0.8609        0.939\n",
       "   81    205       2   0.8904 0.02069       0.8507        0.932\n",
       "   88    203       2   0.8816 0.02140       0.8406        0.925\n",
       "   92    201       1   0.8772 0.02174       0.8356        0.921\n",
       "   93    199       1   0.8728 0.02207       0.8306        0.917\n",
       "   95    198       2   0.8640 0.02271       0.8206        0.910\n",
       "  105    196       1   0.8596 0.02302       0.8156        0.906\n",
       "  107    194       2   0.8507 0.02362       0.8056        0.898\n",
       "  110    192       1   0.8463 0.02391       0.8007        0.894\n",
       "  116    191       1   0.8418 0.02419       0.7957        0.891\n",
       "  118    190       1   0.8374 0.02446       0.7908        0.887\n",
       "  122    189       1   0.8330 0.02473       0.7859        0.883\n",
       "  131    188       1   0.8285 0.02500       0.7810        0.879\n",
       "  132    187       2   0.8197 0.02550       0.7712        0.871\n",
       "  135    185       1   0.8153 0.02575       0.7663        0.867\n",
       "  142    184       1   0.8108 0.02598       0.7615        0.863\n",
       "  144    183       1   0.8064 0.02622       0.7566        0.859\n",
       "  145    182       2   0.7975 0.02667       0.7469        0.852\n",
       "  147    180       1   0.7931 0.02688       0.7421        0.848\n",
       "  153    179       1   0.7887 0.02710       0.7373        0.844\n",
       "  156    178       2   0.7798 0.02751       0.7277        0.836\n",
       "  163    176       3   0.7665 0.02809       0.7134        0.824\n",
       "  166    173       2   0.7577 0.02845       0.7039        0.816\n",
       "  167    171       1   0.7532 0.02863       0.6991        0.811\n",
       "  170    170       1   0.7488 0.02880       0.6944        0.807\n",
       "  175    167       1   0.7443 0.02898       0.6896        0.803\n",
       "  176    165       1   0.7398 0.02915       0.6848        0.799\n",
       "  177    164       1   0.7353 0.02932       0.6800        0.795\n",
       "  179    162       2   0.7262 0.02965       0.6704        0.787\n",
       "  180    160       1   0.7217 0.02981       0.6655        0.783\n",
       "  181    159       2   0.7126 0.03012       0.6559        0.774\n",
       "  182    157       1   0.7081 0.03027       0.6511        0.770\n",
       "  183    156       1   0.7035 0.03041       0.6464        0.766\n",
       "  186    154       1   0.6989 0.03056       0.6416        0.761\n",
       "  189    152       1   0.6943 0.03070       0.6367        0.757\n",
       "  194    149       1   0.6897 0.03085       0.6318        0.753\n",
       "  197    147       1   0.6850 0.03099       0.6269        0.749\n",
       "  199    145       1   0.6803 0.03113       0.6219        0.744\n",
       "  201    144       2   0.6708 0.03141       0.6120        0.735\n",
       "  202    142       1   0.6661 0.03154       0.6071        0.731\n",
       "  207    139       1   0.6613 0.03168       0.6020        0.726\n",
       "  208    138       1   0.6565 0.03181       0.5970        0.722\n",
       "  210    137       1   0.6517 0.03194       0.5920        0.717\n",
       "  212    135       1   0.6469 0.03206       0.5870        0.713\n",
       "  218    134       1   0.6421 0.03218       0.5820        0.708\n",
       "  222    132       1   0.6372 0.03231       0.5769        0.704\n",
       "  223    130       1   0.6323 0.03243       0.5718        0.699\n",
       "  226    126       1   0.6273 0.03256       0.5666        0.694\n",
       "  229    125       1   0.6223 0.03268       0.5614        0.690\n",
       "  230    124       1   0.6172 0.03280       0.5562        0.685\n",
       "  239    121       2   0.6070 0.03304       0.5456        0.675\n",
       "  245    117       1   0.6019 0.03316       0.5402        0.670\n",
       "  246    116       1   0.5967 0.03328       0.5349        0.666\n",
       "  267    112       1   0.5913 0.03341       0.5294        0.661\n",
       "  268    111       1   0.5860 0.03353       0.5239        0.656\n",
       "  269    110       1   0.5807 0.03364       0.5184        0.651\n",
       "  270    108       1   0.5753 0.03376       0.5128        0.645\n",
       "  283    104       1   0.5698 0.03388       0.5071        0.640\n",
       "  284    103       1   0.5642 0.03400       0.5014        0.635\n",
       "  285    101       2   0.5531 0.03424       0.4899        0.624\n",
       "  286     99       1   0.5475 0.03434       0.4841        0.619\n",
       "  288     98       1   0.5419 0.03444       0.4784        0.614\n",
       "  291     97       1   0.5363 0.03454       0.4727        0.608\n",
       "  293     94       1   0.5306 0.03464       0.4669        0.603\n",
       "  301     91       1   0.5248 0.03475       0.4609        0.597\n",
       "  303     89       1   0.5189 0.03485       0.4549        0.592\n",
       "  305     87       1   0.5129 0.03496       0.4488        0.586\n",
       "  306     86       1   0.5070 0.03506       0.4427        0.581\n",
       "  310     85       2   0.4950 0.03523       0.4306        0.569\n",
       "  320     82       1   0.4890 0.03532       0.4244        0.563\n",
       "  329     81       1   0.4830 0.03539       0.4183        0.558\n",
       "  337     79       1   0.4768 0.03547       0.4121        0.552\n",
       "  340     78       1   0.4707 0.03554       0.4060        0.546\n",
       "  345     77       1   0.4646 0.03560       0.3998        0.540\n",
       "  348     76       1   0.4585 0.03565       0.3937        0.534\n",
       "  350     75       1   0.4524 0.03569       0.3876        0.528\n",
       "  351     74       1   0.4463 0.03573       0.3815        0.522\n",
       "  353     73       2   0.4340 0.03578       0.3693        0.510\n",
       "  361     70       1   0.4278 0.03581       0.3631        0.504\n",
       "  363     69       2   0.4154 0.03583       0.3508        0.492\n",
       "  364     67       1   0.4092 0.03582       0.3447        0.486\n",
       "  371     65       2   0.3966 0.03581       0.3323        0.473\n",
       "  387     60       1   0.3900 0.03582       0.3258        0.467\n",
       "  390     59       1   0.3834 0.03582       0.3193        0.460\n",
       "  394     58       1   0.3768 0.03580       0.3128        0.454\n",
       "  426     55       1   0.3700 0.03580       0.3060        0.447\n",
       "  428     54       1   0.3631 0.03579       0.2993        0.440\n",
       "  429     53       1   0.3563 0.03576       0.2926        0.434\n",
       "  433     52       1   0.3494 0.03573       0.2860        0.427\n",
       "  442     51       1   0.3426 0.03568       0.2793        0.420\n",
       "  444     50       1   0.3357 0.03561       0.2727        0.413\n",
       "  450     48       1   0.3287 0.03555       0.2659        0.406\n",
       "  455     47       1   0.3217 0.03548       0.2592        0.399\n",
       "  457     46       1   0.3147 0.03539       0.2525        0.392\n",
       "  460     44       1   0.3076 0.03530       0.2456        0.385\n",
       "  473     43       1   0.3004 0.03520       0.2388        0.378\n",
       "  477     42       1   0.2933 0.03508       0.2320        0.371\n",
       "  519     39       1   0.2857 0.03498       0.2248        0.363\n",
       "  520     38       1   0.2782 0.03485       0.2177        0.356\n",
       "  524     37       2   0.2632 0.03455       0.2035        0.340\n",
       "  533     34       1   0.2554 0.03439       0.1962        0.333\n",
       "  550     32       1   0.2475 0.03423       0.1887        0.325\n",
       "  558     30       1   0.2392 0.03407       0.1810        0.316\n",
       "  567     28       1   0.2307 0.03391       0.1729        0.308\n",
       "  574     27       1   0.2221 0.03371       0.1650        0.299\n",
       "  583     26       1   0.2136 0.03348       0.1571        0.290\n",
       "  613     24       1   0.2047 0.03325       0.1489        0.281\n",
       "  624     23       1   0.1958 0.03297       0.1407        0.272\n",
       "  641     22       1   0.1869 0.03265       0.1327        0.263\n",
       "  643     21       1   0.1780 0.03229       0.1247        0.254\n",
       "  654     20       1   0.1691 0.03188       0.1169        0.245\n",
       "  655     19       1   0.1602 0.03142       0.1091        0.235\n",
       "  687     18       1   0.1513 0.03090       0.1014        0.226\n",
       "  689     17       1   0.1424 0.03034       0.0938        0.216\n",
       "  705     16       1   0.1335 0.02972       0.0863        0.207\n",
       "  707     15       1   0.1246 0.02904       0.0789        0.197\n",
       "  728     14       1   0.1157 0.02830       0.0716        0.187\n",
       "  731     13       1   0.1068 0.02749       0.0645        0.177\n",
       "  735     12       1   0.0979 0.02660       0.0575        0.167\n",
       "  765     10       1   0.0881 0.02568       0.0498        0.156\n",
       "  791      9       1   0.0783 0.02462       0.0423        0.145\n",
       "  814      7       1   0.0671 0.02351       0.0338        0.133\n",
       "  883      4       1   0.0503 0.02285       0.0207        0.123"
      ]
     },
     "metadata": {},
     "output_type": "display_data"
    }
   ],
   "source": [
    "f2 <- survfit(Surv(time, status) ~ 1, data = lung)\n",
    "summary(f2)"
   ]
  },
  {
   "cell_type": "code",
   "execution_count": 19,
   "metadata": {},
   "outputs": [
    {
     "data": {
      "image/png": "[encoded data removed]",
      "text/plain": [
       "plot without title"
      ]
     },
     "metadata": {
      "image/png": {
       "height": 420,
       "width": 420
      }
     },
     "output_type": "display_data"
    }
   ],
   "source": [
    "plot(f2)"
   ]
  },
  {
   "cell_type": "markdown",
   "metadata": {},
   "source": [
    "#### Get the survival at a specific time\n",
    " \n",
    "Lets say that we want to get the survival probability a year after beginning the follow up "
   ]
  },
  {
   "cell_type": "code",
   "execution_count": 21,
   "metadata": {},
   "outputs": [
    {
     "data": {
      "text/plain": [
       "Call: survfit(formula = Surv(time, status) ~ 1, data = lung)\n",
       "\n",
       " time n.risk n.event survival std.err lower 95% CI upper 95% CI\n",
       "  365     65     121    0.409  0.0358        0.345        0.486"
      ]
     },
     "metadata": {},
     "output_type": "display_data"
    }
   ],
   "source": [
    "summary(survfit(Surv(time, status) ~ 1, data = lung), times = 365)"
   ]
  },
  {
   "cell_type": "markdown",
   "metadata": {},
   "source": [
    "#### Comparing survival times between groups\n",
    " \n",
    "To compare the difference on the survival between two categories we use the <b>survdiff</b>, which uses the Chi-Square to compare between the groups.  "
   ]
  },
  {
   "cell_type": "code",
   "execution_count": 39,
   "metadata": {},
   "outputs": [
    {
     "data": {
      "text/plain": [
       "Call:\n",
       "survdiff(formula = Surv(time, status) ~ sex, data = lung)\n",
       "\n",
       "        N Observed Expected (O-E)^2/E (O-E)^2/V\n",
       "sex=M 138      112     91.6      4.55      10.3\n",
       "sex=F  90       53     73.4      5.68      10.3\n",
       "\n",
       " Chisq= 10.3  on 1 degrees of freedom, p= 0.001 "
      ]
     },
     "metadata": {},
     "output_type": "display_data"
    }
   ],
   "source": [
    "survdiff(Surv(time, status) ~ sex, data = lung)"
   ]
  },
  {
   "cell_type": "markdown",
   "metadata": {},
   "source": [
    "#### Cox Proportional Hazard - Univariable analysis"
   ]
  },
  {
   "cell_type": "code",
   "execution_count": 26,
   "metadata": {},
   "outputs": [],
   "source": [
    "f3 <- coxph(Surv(time, status) ~ sex, data = lung)"
   ]
  },
  {
   "cell_type": "code",
   "execution_count": 27,
   "metadata": {},
   "outputs": [
    {
     "data": {
      "text/plain": [
       "Call:\n",
       "coxph(formula = Surv(time, status) ~ sex, data = lung)\n",
       "\n",
       "  n= 228, number of events= 165 \n",
       "\n",
       "        coef exp(coef) se(coef)      z Pr(>|z|)   \n",
       "sexF -0.5310    0.5880   0.1672 -3.176  0.00149 **\n",
       "---\n",
       "Signif. codes:  0 '***' 0.001 '**' 0.01 '*' 0.05 '.' 0.1 ' ' 1\n",
       "\n",
       "     exp(coef) exp(-coef) lower .95 upper .95\n",
       "sexF     0.588      1.701    0.4237     0.816\n",
       "\n",
       "Concordance= 0.579  (se = 0.021 )\n",
       "Likelihood ratio test= 10.63  on 1 df,   p=0.001\n",
       "Wald test            = 10.09  on 1 df,   p=0.001\n",
       "Score (logrank) test = 10.33  on 1 df,   p=0.001\n"
      ]
     },
     "metadata": {},
     "output_type": "display_data"
    }
   ],
   "source": [
    "summary(f3)"
   ]
  },
  {
   "cell_type": "code",
   "execution_count": 30,
   "metadata": {},
   "outputs": [
    {
     "data": {
      "image/png": "[encoded data removed]",
      "text/plain": [
       "plot without title"
      ]
     },
     "metadata": {
      "image/png": {
       "height": 420,
       "width": 420
      }
     },
     "output_type": "display_data"
    }
   ],
   "source": [
    "f4 <- survfit(Surv(time, status) ~ sex, data = lung)\n",
    "plot(f4)"
   ]
  },
  {
   "cell_type": "markdown",
   "metadata": {},
   "source": [
    "#### Cox Proportional Hazard - Multivariable analysis"
   ]
  },
  {
   "cell_type": "code",
   "execution_count": 31,
   "metadata": {},
   "outputs": [
    {
     "data": {
      "text/plain": [
       "Call:\n",
       "coxph(formula = Surv(time, status) ~ sex + age, data = lung)\n",
       "\n",
       "  n= 228, number of events= 165 \n",
       "\n",
       "          coef exp(coef)  se(coef)      z Pr(>|z|)   \n",
       "sexF -0.513219  0.598566  0.167458 -3.065  0.00218 **\n",
       "age   0.017045  1.017191  0.009223  1.848  0.06459 . \n",
       "---\n",
       "Signif. codes:  0 '***' 0.001 '**' 0.01 '*' 0.05 '.' 0.1 ' ' 1\n",
       "\n",
       "     exp(coef) exp(-coef) lower .95 upper .95\n",
       "sexF    0.5986     1.6707    0.4311    0.8311\n",
       "age     1.0172     0.9831    0.9990    1.0357\n",
       "\n",
       "Concordance= 0.603  (se = 0.025 )\n",
       "Likelihood ratio test= 14.12  on 2 df,   p=9e-04\n",
       "Wald test            = 13.47  on 2 df,   p=0.001\n",
       "Score (logrank) test = 13.72  on 2 df,   p=0.001\n"
      ]
     },
     "metadata": {},
     "output_type": "display_data"
    }
   ],
   "source": [
    "f5 <- coxph(Surv(time, status) ~ sex + age, data = lung)\n",
    "summary(f5)"
   ]
  },
  {
   "cell_type": "code",
   "execution_count": 32,
   "metadata": {},
   "outputs": [
    {
     "data": {
      "text/plain": [
       "Call:\n",
       "coxph(formula = Surv(time, status) ~ sex + age + meal.cal, data = lung)\n",
       "\n",
       "  n= 181, number of events= 134 \n",
       "   (47 observations deleted due to missingness)\n",
       "\n",
       "               coef  exp(coef)   se(coef)      z Pr(>|z|)  \n",
       "sexF     -0.4914187  0.6117579  0.1908601 -2.575    0.010 *\n",
       "age       0.0152942  1.0154117  0.0105352  1.452    0.147  \n",
       "meal.cal -0.0001341  0.9998659  0.0002383 -0.563    0.574  \n",
       "---\n",
       "Signif. codes:  0 '***' 0.001 '**' 0.01 '*' 0.05 '.' 0.1 ' ' 1\n",
       "\n",
       "         exp(coef) exp(-coef) lower .95 upper .95\n",
       "sexF        0.6118     1.6346    0.4208    0.8893\n",
       "age         1.0154     0.9848    0.9947    1.0366\n",
       "meal.cal    0.9999     1.0001    0.9994    1.0003\n",
       "\n",
       "Concordance= 0.604  (se = 0.029 )\n",
       "Likelihood ratio test= 10.65  on 3 df,   p=0.01\n",
       "Wald test            = 10.17  on 3 df,   p=0.02\n",
       "Score (logrank) test = 10.33  on 3 df,   p=0.02\n"
      ]
     },
     "metadata": {},
     "output_type": "display_data"
    }
   ],
   "source": [
    "f6 <- coxph(Surv(time, status) ~ sex + age + meal.cal, data = lung)\n",
    "summary(f6)"
   ]
  },
  {
   "cell_type": "code",
   "execution_count": 33,
   "metadata": {},
   "outputs": [
    {
     "data": {
      "text/plain": [
       "Call:\n",
       "coxph(formula = Surv(time, status) ~ sex + age + meal.cal + wt.loss, \n",
       "    data = lung)\n",
       "\n",
       "  n= 171, number of events= 124 \n",
       "   (57 observations deleted due to missingness)\n",
       "\n",
       "               coef  exp(coef)   se(coef)      z Pr(>|z|)  \n",
       "sexF     -0.4638206  0.6288764  0.1975423 -2.348   0.0189 *\n",
       "age       0.0178260  1.0179858  0.0110505  1.613   0.1067  \n",
       "meal.cal -0.0001201  0.9998799  0.0002469 -0.486   0.6267  \n",
       "wt.loss  -0.0005425  0.9994576  0.0067778 -0.080   0.9362  \n",
       "---\n",
       "Signif. codes:  0 '***' 0.001 '**' 0.01 '*' 0.05 '.' 0.1 ' ' 1\n",
       "\n",
       "         exp(coef) exp(-coef) lower .95 upper .95\n",
       "sexF        0.6289     1.5901    0.4270    0.9262\n",
       "age         1.0180     0.9823    0.9962    1.0403\n",
       "meal.cal    0.9999     1.0001    0.9994    1.0004\n",
       "wt.loss     0.9995     1.0005    0.9863    1.0128\n",
       "\n",
       "Concordance= 0.608  (se = 0.031 )\n",
       "Likelihood ratio test= 10.07  on 4 df,   p=0.04\n",
       "Wald test            = 9.63  on 4 df,   p=0.05\n",
       "Score (logrank) test = 9.78  on 4 df,   p=0.04\n"
      ]
     },
     "metadata": {},
     "output_type": "display_data"
    }
   ],
   "source": [
    "f7 <- coxph(Surv(time, status) ~ sex + age + meal.cal + wt.loss, data = lung)\n",
    "summary(f7)"
   ]
  },
  {
   "cell_type": "code",
   "execution_count": 34,
   "metadata": {},
   "outputs": [
    {
     "data": {
      "text/plain": [
       "Call:\n",
       "coxph(formula = Surv(time, status) ~ ., data = lung)\n",
       "\n",
       "  n= 167, number of events= 120 \n",
       "   (61 observations deleted due to missingness)\n",
       "\n",
       "                coef  exp(coef)   se(coef)      z Pr(>|z|)    \n",
       "inst      -3.037e-02  9.701e-01  1.312e-02 -2.315 0.020619 *  \n",
       "age        1.281e-02  1.013e+00  1.194e-02  1.073 0.283403    \n",
       "sexF      -5.666e-01  5.674e-01  2.014e-01 -2.814 0.004890 ** \n",
       "ph.ecog    9.074e-01  2.478e+00  2.386e-01  3.803 0.000143 ***\n",
       "ph.karno   2.658e-02  1.027e+00  1.163e-02  2.286 0.022231 *  \n",
       "pat.karno -1.091e-02  9.891e-01  8.141e-03 -1.340 0.180160    \n",
       "meal.cal   2.602e-06  1.000e+00  2.677e-04  0.010 0.992244    \n",
       "wt.loss   -1.671e-02  9.834e-01  7.911e-03 -2.112 0.034647 *  \n",
       "---\n",
       "Signif. codes:  0 '***' 0.001 '**' 0.01 '*' 0.05 '.' 0.1 ' ' 1\n",
       "\n",
       "          exp(coef) exp(-coef) lower .95 upper .95\n",
       "inst         0.9701     1.0308    0.9455    0.9954\n",
       "age          1.0129     0.9873    0.9895    1.0369\n",
       "sexF         0.5674     1.7623    0.3824    0.8420\n",
       "ph.ecog      2.4778     0.4036    1.5523    3.9552\n",
       "ph.karno     1.0269     0.9738    1.0038    1.0506\n",
       "pat.karno    0.9891     1.0110    0.9735    1.0051\n",
       "meal.cal     1.0000     1.0000    0.9995    1.0005\n",
       "wt.loss      0.9834     1.0169    0.9683    0.9988\n",
       "\n",
       "Concordance= 0.648  (se = 0.03 )\n",
       "Likelihood ratio test= 33.7  on 8 df,   p=5e-05\n",
       "Wald test            = 31.72  on 8 df,   p=1e-04\n",
       "Score (logrank) test = 32.51  on 8 df,   p=8e-05\n"
      ]
     },
     "metadata": {},
     "output_type": "display_data"
    }
   ],
   "source": [
    "f8 <- coxph(Surv(time, status) ~ . , data = lung)\n",
    "summary(f8)"
   ]
  },
  {
   "cell_type": "code",
   "execution_count": 35,
   "metadata": {},
   "outputs": [],
   "source": [
    "sm <- summary(f8)"
   ]
  },
  {
   "cell_type": "code",
   "execution_count": 36,
   "metadata": {},
   "outputs": [],
   "source": [
    "pvalues <- sm$coefficients[,5]"
   ]
  },
  {
   "cell_type": "code",
   "execution_count": 37,
   "metadata": {},
   "outputs": [],
   "source": [
    "sm <- data.frame(sm$conf.int)"
   ]
  },
  {
   "cell_type": "code",
   "execution_count": 96,
   "metadata": {},
   "outputs": [
    {
     "data": {
      "text/html": [
       "<table>\n",
       "<caption>A data.frame: 8 × 4</caption>\n",
       "<thead>\n",
       "\t<tr><th></th><th scope=col>exp.coef.</th><th scope=col>lower..95</th><th scope=col>upper..95</th><th scope=col>pvalue</th></tr>\n",
       "\t<tr><th></th><th scope=col>&lt;dbl&gt;</th><th scope=col>&lt;dbl&gt;</th><th scope=col>&lt;dbl&gt;</th><th scope=col>&lt;dbl&gt;</th></tr>\n",
       "</thead>\n",
       "<tbody>\n",
       "\t<tr><th scope=row>inst</th><td>0.970</td><td>0.945</td><td>0.995</td><td>0.021</td></tr>\n",
       "\t<tr><th scope=row>age</th><td>1.013</td><td>0.989</td><td>1.037</td><td>0.283</td></tr>\n",
       "\t<tr><th scope=row>sexF</th><td>0.567</td><td>0.382</td><td>0.842</td><td>0.005</td></tr>\n",
       "\t<tr><th scope=row>ph.ecog</th><td>2.478</td><td>1.552</td><td>3.955</td><td>0.000</td></tr>\n",
       "\t<tr><th scope=row>ph.karno</th><td>1.027</td><td>1.004</td><td>1.051</td><td>0.022</td></tr>\n",
       "\t<tr><th scope=row>pat.karno</th><td>0.989</td><td>0.973</td><td>1.005</td><td>0.180</td></tr>\n",
       "\t<tr><th scope=row>meal.cal</th><td>1.000</td><td>0.999</td><td>1.001</td><td>0.992</td></tr>\n",
       "\t<tr><th scope=row>wt.loss</th><td>0.983</td><td>0.968</td><td>0.999</td><td>0.035</td></tr>\n",
       "</tbody>\n",
       "</table>\n"
      ],
      "text/latex": [
       "A data.frame: 8 × 4\n",
       "\\begin{tabular}{r|llll}\n",
       "  & exp.coef. & lower..95 & upper..95 & pvalue\\\\\n",
       "  & <dbl> & <dbl> & <dbl> & <dbl>\\\\\n",
       "\\hline\n",
       "\tinst & 0.970 & 0.945 & 0.995 & 0.021\\\\\n",
       "\tage & 1.013 & 0.989 & 1.037 & 0.283\\\\\n",
       "\tsexF & 0.567 & 0.382 & 0.842 & 0.005\\\\\n",
       "\tph.ecog & 2.478 & 1.552 & 3.955 & 0.000\\\\\n",
       "\tph.karno & 1.027 & 1.004 & 1.051 & 0.022\\\\\n",
       "\tpat.karno & 0.989 & 0.973 & 1.005 & 0.180\\\\\n",
       "\tmeal.cal & 1.000 & 0.999 & 1.001 & 0.992\\\\\n",
       "\twt.loss & 0.983 & 0.968 & 0.999 & 0.035\\\\\n",
       "\\end{tabular}\n"
      ],
      "text/markdown": [
       "\n",
       "A data.frame: 8 × 4\n",
       "\n",
       "| <!--/--> | exp.coef. &lt;dbl&gt; | lower..95 &lt;dbl&gt; | upper..95 &lt;dbl&gt; | pvalue &lt;dbl&gt; |\n",
       "|---|---|---|---|---|\n",
       "| inst | 0.970 | 0.945 | 0.995 | 0.021 |\n",
       "| age | 1.013 | 0.989 | 1.037 | 0.283 |\n",
       "| sexF | 0.567 | 0.382 | 0.842 | 0.005 |\n",
       "| ph.ecog | 2.478 | 1.552 | 3.955 | 0.000 |\n",
       "| ph.karno | 1.027 | 1.004 | 1.051 | 0.022 |\n",
       "| pat.karno | 0.989 | 0.973 | 1.005 | 0.180 |\n",
       "| meal.cal | 1.000 | 0.999 | 1.001 | 0.992 |\n",
       "| wt.loss | 0.983 | 0.968 | 0.999 | 0.035 |\n",
       "\n"
      ],
      "text/plain": [
       "          exp.coef. lower..95 upper..95 pvalue\n",
       "inst      0.970     0.945     0.995     0.021 \n",
       "age       1.013     0.989     1.037     0.283 \n",
       "sexF      0.567     0.382     0.842     0.005 \n",
       "ph.ecog   2.478     1.552     3.955     0.000 \n",
       "ph.karno  1.027     1.004     1.051     0.022 \n",
       "pat.karno 0.989     0.973     1.005     0.180 \n",
       "meal.cal  1.000     0.999     1.001     0.992 \n",
       "wt.loss   0.983     0.968     0.999     0.035 "
      ]
     },
     "metadata": {},
     "output_type": "display_data"
    }
   ],
   "source": [
    "sm$pvalue <- pvalues\n",
    "sm$`exp..coef.` <- NULL\n",
    "round(sm,3)"
   ]
  },
  {
   "cell_type": "code",
   "execution_count": 74,
   "metadata": {},
   "outputs": [
    {
     "data": {
      "image/png": "[encoded data removed]",
      "text/plain": [
       "plot without title"
      ]
     },
     "metadata": {
      "image/png": {
       "height": 420,
       "width": 420
      }
     },
     "output_type": "display_data"
    }
   ],
   "source": [
    "library(forestplot)\n",
    "\n",
    "forestplot(row.names(sm),\n",
    "    sm$`exp.coef.`,\n",
    "    sm$`lower..95`,\n",
    "    sm$`upper..95`,\n",
    "    zero = 1,\n",
    "    cex = 2,\n",
    "    #lineheight = \"auto\",\n",
    "    xlab = \"Lab axis txt\"\n",
    ")\n"
   ]
  }
 ],
 "metadata": {
  "kernelspec": {
   "display_name": "Python 3 (ipykernel)",
   "language": "python",
   "name": "python3"
  },
  "language_info": {
   "codemirror_mode": {
    "name": "ipython",
    "version": 3
   },
   "file_extension": ".py",
   "mimetype": "text/x-python",
   "name": "python",
   "nbconvert_exporter": "python",
   "pygments_lexer": "ipython3",
   "version": "3.9.12"
  }
 },
 "nbformat": 4,
 "nbformat_minor": 2
}
