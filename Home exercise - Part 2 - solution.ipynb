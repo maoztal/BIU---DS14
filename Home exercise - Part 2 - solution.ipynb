{
 "cells": [
  {
   "cell_type": "markdown",
   "metadata": {},
   "source": [
    "# Python Home Exercises"
   ]
  },
  {
   "cell_type": "markdown",
   "metadata": {},
   "source": [
    "## Functions in Python\n",
    " \n",
    "Create a function that converts any given time period (days, hours and minutes) into seconds. The input must include a string representing the time period and an integer representing the value of the time period. The function must be like this:\n",
    " \n",
    "<code>\n",
    "> convert2sec(23,'min')\n",
    "> 23 minutes = 1380 seconds\n",
    "</code>\n",
    "\n",
    "Please take into account the different ways users can input the parameters (see below the running examples)"
   ]
  },
  {
   "cell_type": "code",
   "execution_count": 14,
   "metadata": {},
   "outputs": [],
   "source": [
    "import numpy as np\n",
    "### your code\n",
    "def convert2sec(time,frame):\n",
    "    if str.lower(frame)[0] == 'm':\n",
    "        res = time * 60\n",
    "        tf = \"minutes\"\n",
    "    elif str.lower(frame)[0] == 'h':\n",
    "        res = time * 60 * 60\n",
    "        tf = \"hours\"\n",
    "    elif str.lower(frame)[0] == 'd':\n",
    "        res = time * 60 * 60 * 24\n",
    "        tf = \"days\"\n",
    "    elif str.lower(frame)[0] == 's':\n",
    "        res = time\n",
    "        tf = \"seconds\"\n",
    "    else:\n",
    "        res = \"The data you enterd can't be calculated in\"\n",
    "        tf = frame\n",
    "    \n",
    "    return  \"{} {} = {} seconds\".format(time, tf, res)\n"
   ]
  },
  {
   "cell_type": "code",
   "execution_count": 8,
   "metadata": {},
   "outputs": [
    {
     "data": {
      "text/plain": [
       "'23 minutes = 1380 seconds'"
      ]
     },
     "execution_count": 8,
     "metadata": {},
     "output_type": "execute_result"
    }
   ],
   "source": [
    "convert2sec(23,'min')"
   ]
  },
  {
   "cell_type": "code",
   "execution_count": 9,
   "metadata": {},
   "outputs": [
    {
     "data": {
      "text/plain": [
       "'3 days = 259200 seconds'"
      ]
     },
     "execution_count": 9,
     "metadata": {},
     "output_type": "execute_result"
    }
   ],
   "source": [
    "convert2sec(3,'DAYS')"
   ]
  },
  {
   "cell_type": "code",
   "execution_count": 10,
   "metadata": {},
   "outputs": [
    {
     "data": {
      "text/plain": [
       "'10 hours = 36000 seconds'"
      ]
     },
     "execution_count": 10,
     "metadata": {},
     "output_type": "execute_result"
    }
   ],
   "source": [
    "convert2sec(10,'Hrs')"
   ]
  },
  {
   "cell_type": "code",
   "execution_count": 15,
   "metadata": {},
   "outputs": [
    {
     "data": {
      "text/plain": [
       "'10 seconds = 10 seconds'"
      ]
     },
     "execution_count": 15,
     "metadata": {},
     "output_type": "execute_result"
    }
   ],
   "source": [
    "convert2sec(10,'Sec')"
   ]
  },
  {
   "cell_type": "code",
   "execution_count": 16,
   "metadata": {},
   "outputs": [
    {
     "data": {
      "text/plain": [
       "\"10 pachs = The data you enterd can't be calculated in seconds\""
      ]
     },
     "execution_count": 16,
     "metadata": {},
     "output_type": "execute_result"
    }
   ],
   "source": [
    "convert2sec(10,'pachs')"
   ]
  },
  {
   "cell_type": "markdown",
   "metadata": {},
   "source": [
    "## Object Oriented Programming\n",
    "---\n",
    "<code></code>\n",
    "### Exercise: \n",
    " \n",
    "1. Write a class for cars. Each car has the following attributes:  \n",
    "    + Company \n",
    "    + Model \n",
    "    + BodyStyle \n",
    "    + Doors \n",
    "    + Cylinders \n",
    "    + Hybrid \n",
    " \n",
    "\n",
    "2. Create a method to retrieve and to set each of the attributes, and a constructor for printing the attribute values.\n",
    " \n",
    "3. Create objects for each of the following car models:\n",
    "\n",
    "    - Toyota Corola Sedan with 4 doors, 4 cylinder, hybrid\n",
    "    - Hyundai i30 Hatchback, 5 doors, 4 cylinder\n",
    "    - Fiat Tipo Wagon, 5 doors, 8 cylinder\n",
    "    - Seat Leon Hatchback, 3 doors, 4 cylinder\n",
    " \n",
    "\n",
    "4. Use the 'print' function to print each object attributes.\n",
    "\n",
    "<code></code>\n",
    "---"
   ]
  },
  {
   "cell_type": "code",
   "execution_count": 1,
   "metadata": {},
   "outputs": [],
   "source": [
    "class Cars():\n",
    "    def __init__(self,company=\"\",model=\"\",body_style=\"\",doors=4,cylinders=4,hybrid=False):\n",
    "        self.company, self.model, self.body_style, self.doors, self.cylinders, self.hybrid = company, model, body_style, doors, cylinders, hybrid\n",
    "    def setCompany(self, company):\n",
    "        self.company = company\n",
    "    def getCompany(self):\n",
    "        return self.company\n",
    "    def setModel(self,model):\n",
    "        self.model = model\n",
    "    def getModel(self):\n",
    "        return self.model\n",
    "    def setBodyStyle(self,body_style):\n",
    "        self.body_style = body_style\n",
    "    def getBodyStyle(self):\n",
    "        return self.body_style\n",
    "    def setDoors(self,doors):\n",
    "        self.doors = doors\n",
    "    def getDoors(self):\n",
    "        return self.doors\n",
    "    def setCylinders(self,cylinders):\n",
    "        self.body_style = cylinders\n",
    "    def getCylinders(self):\n",
    "        return self.cylinders\n",
    "    def setHybrid(self,hybrid):\n",
    "        self.hybrid = hybrid\n",
    "    def getHybrid(self):\n",
    "        return self.hybrid\n",
    "    def __str__(self):\n",
    "        return '''Car Company: {} \\nCar Model: {} \\nCar body: {} \\nNumber of doors: {} \\nNumber of Cylinders: {} \\nHybrid: {} '''.format(self.company, self.model, self.body_style, self.doors, self.cylinders, self.hybrid)\n",
    "    "
   ]
  },
  {
   "cell_type": "code",
   "execution_count": 2,
   "metadata": {},
   "outputs": [
    {
     "name": "stdout",
     "output_type": "stream",
     "text": [
      "Car Company: Toyota \n",
      "Car Model: Corola \n",
      "Car body: Sedan \n",
      "Number of doors: 4 \n",
      "Number of Cylinders: 4 \n",
      "Hybrid: True \n"
     ]
    }
   ],
   "source": [
    "# Toyota Corola Sedan with 4 doors, 4 cylinder, hybrid\n",
    "car1 = Cars('Toyota','Corola','Sedan',4,4,True)\n",
    "print(car1)"
   ]
  },
  {
   "cell_type": "code",
   "execution_count": 32,
   "metadata": {},
   "outputs": [
    {
     "data": {
      "text/plain": [
       "'Sedan'"
      ]
     },
     "execution_count": 32,
     "metadata": {},
     "output_type": "execute_result"
    }
   ],
   "source": [
    "car1.getBodyStyle()"
   ]
  },
  {
   "cell_type": "code",
   "execution_count": 33,
   "metadata": {},
   "outputs": [
    {
     "data": {
      "text/plain": [
       "4"
      ]
     },
     "execution_count": 33,
     "metadata": {},
     "output_type": "execute_result"
    }
   ],
   "source": [
    "car1.getCylinders()"
   ]
  },
  {
   "cell_type": "code",
   "execution_count": 28,
   "metadata": {},
   "outputs": [
    {
     "name": "stdout",
     "output_type": "stream",
     "text": [
      "Car Company: Hyundai \n",
      "Car Model: i30 \n",
      "Car body: Hatchback \n",
      "Number of doors: 5 \n",
      "Number of Cylinders: 4 \n",
      "Hybrid: False \n"
     ]
    }
   ],
   "source": [
    "# Hyundai i30 Hatchback, 5 doors, 4 cylinder\n",
    "car2 = Cars('Hyundai', 'i30', 'Hatchback', 5, 4, False)\n",
    "print(car2)"
   ]
  },
  {
   "cell_type": "code",
   "execution_count": 30,
   "metadata": {},
   "outputs": [
    {
     "name": "stdout",
     "output_type": "stream",
     "text": [
      "Car Company: Fiat \n",
      "Car Model: Tipo \n",
      "Car body: 8 \n",
      "Number of doors: 5 \n",
      "Number of Cylinders: 4 \n",
      "Hybrid: False \n"
     ]
    }
   ],
   "source": [
    "# Fiat Tipo Wagon, 5 doors, 8 cylinder\n",
    "car3 = Cars()\n",
    "car3.setCompany('Fiat')\n",
    "car3.setModel('Tipo')\n",
    "car3.setBodyStyle('Wagon')\n",
    "car3.setDoors(5)\n",
    "car3.setCylinders(8)\n",
    "print(car3)"
   ]
  },
  {
   "cell_type": "code",
   "execution_count": 31,
   "metadata": {},
   "outputs": [
    {
     "name": "stdout",
     "output_type": "stream",
     "text": [
      "Car Company: Seat \n",
      "Car Model: Leon \n",
      "Car body: Hatchback \n",
      "Number of doors: 3 \n",
      "Number of Cylinders: 4 \n",
      "Hybrid: False \n"
     ]
    }
   ],
   "source": [
    "# Seat Leon Hatchback, 3 doors, 4 cylinder\n",
    "car4 = Cars()\n",
    "car4.setCompany('Seat')\n",
    "car4.setModel('Leon')\n",
    "car4.setBodyStyle('Hatchback')\n",
    "car4.setDoors(3)\n",
    "print(car4)"
   ]
  }
 ],
 "metadata": {
  "kernelspec": {
   "display_name": "Python 3 (ipykernel)",
   "language": "python",
   "name": "python3"
  },
  "language_info": {
   "codemirror_mode": {
    "name": "ipython",
    "version": 3
   },
   "file_extension": ".py",
   "mimetype": "text/x-python",
   "name": "python",
   "nbconvert_exporter": "python",
   "pygments_lexer": "ipython3",
   "version": "3.9.12"
  }
 },
 "nbformat": 4,
 "nbformat_minor": 4
}
