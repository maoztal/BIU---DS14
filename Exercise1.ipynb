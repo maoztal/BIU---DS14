{
 "cells": [
  {
   "cell_type": "markdown",
   "id": "5845fafe",
   "metadata": {},
   "source": [
    "Create a new Jupyter Notebook and save it as “exercise 1”. Check if it was saved\n",
    "Create a list with 10 numbers, 5 characters and 3 booleans\n",
    "Extract the third value\n",
    "Remove the last value\n",
    "Insert in position 8 the character “A”\n",
    "Create a tuple with 6 letters\n",
    "Remove the 4th element.\n",
    "Create a set for the list created in 2\n",
    "Create a dictionary with 7 elements. The keys must be name of courses and the values the number of students in each course."
   ]
  },
  {
   "cell_type": "code",
   "execution_count": 19,
   "id": "36b7d5a4",
   "metadata": {},
   "outputs": [],
   "source": [
    "i = [1, 2, 3, 4, 5, 6, 7, 8, 9, 10, \"a\", \"b\", \"c\", \"d\", \"E\", True, True, False]"
   ]
  },
  {
   "cell_type": "code",
   "execution_count": 20,
   "id": "bdbc5236",
   "metadata": {},
   "outputs": [
    {
     "data": {
      "text/plain": [
       "3"
      ]
     },
     "execution_count": 20,
     "metadata": {},
     "output_type": "execute_result"
    }
   ],
   "source": [
    "i[2]"
   ]
  },
  {
   "cell_type": "code",
   "execution_count": 21,
   "id": "ded3d045",
   "metadata": {},
   "outputs": [
    {
     "data": {
      "text/plain": [
       "[1, 2, 3, 4, 5, 6, 7, 8, 9, 10, 'a', 'b', 'c', 'd', 'E', True, True]"
      ]
     },
     "execution_count": 21,
     "metadata": {},
     "output_type": "execute_result"
    }
   ],
   "source": [
    "i.remove(i[-1])\n",
    "i"
   ]
  },
  {
   "cell_type": "code",
   "execution_count": 22,
   "id": "b6950b37",
   "metadata": {},
   "outputs": [
    {
     "data": {
      "text/plain": [
       "[1, 2, 3, 4, 5, 6, 7, 8, 'A', 9, 10, 'a', 'b', 'c', 'd', 'E', True, True]"
      ]
     },
     "execution_count": 22,
     "metadata": {},
     "output_type": "execute_result"
    }
   ],
   "source": [
    "i.insert(8, 'A')\n",
    "i"
   ]
  },
  {
   "cell_type": "code",
   "execution_count": 23,
   "id": "106f22c4",
   "metadata": {},
   "outputs": [
    {
     "data": {
      "text/plain": [
       "('a', 'b', 'c', 'd', 'e', 'f')"
      ]
     },
     "execution_count": 23,
     "metadata": {},
     "output_type": "execute_result"
    }
   ],
   "source": [
    "tup = ('a', 'b', 'c', 'd', 'e', 'f')\n",
    "tup"
   ]
  },
  {
   "cell_type": "code",
   "execution_count": 29,
   "id": "6e1763d5",
   "metadata": {},
   "outputs": [
    {
     "data": {
      "text/plain": [
       "['a', 'b', 'c', 'e', 'f']"
      ]
     },
     "execution_count": 29,
     "metadata": {},
     "output_type": "execute_result"
    }
   ],
   "source": [
    "ltup = list(tup)\n",
    "ltup.remove(ltup[3])\n",
    "ltup"
   ]
  },
  {
   "cell_type": "code",
   "execution_count": 30,
   "id": "5d35e83f",
   "metadata": {},
   "outputs": [
    {
     "data": {
      "text/plain": [
       "{1, 10, 2, 3, 4, 5, 6, 7, 8, 9, 'A', 'E', 'a', 'b', 'c', 'd'}"
      ]
     },
     "execution_count": 30,
     "metadata": {},
     "output_type": "execute_result"
    }
   ],
   "source": [
    "iset = set(i)\n",
    "iset"
   ]
  },
  {
   "cell_type": "code",
   "execution_count": 1,
   "id": "b55396aa",
   "metadata": {},
   "outputs": [
    {
     "data": {
      "text/plain": [
       "{'Math': 24, 'Heb': 13, 'Biol': 245}"
      ]
     },
     "execution_count": 1,
     "metadata": {},
     "output_type": "execute_result"
    }
   ],
   "source": [
    "di = {'Math': 24, 'Heb': 12, 'Biol': 245}\n",
    "di['Heb'] = 13\n",
    "di"
   ]
  }
 ],
 "metadata": {
  "kernelspec": {
   "display_name": "Python 3 (ipykernel)",
   "language": "python",
   "name": "python3"
  },
  "language_info": {
   "codemirror_mode": {
    "name": "ipython",
    "version": 3
   },
   "file_extension": ".py",
   "mimetype": "text/x-python",
   "name": "python",
   "nbconvert_exporter": "python",
   "pygments_lexer": "ipython3",
   "version": "3.9.12"
  }
 },
 "nbformat": 4,
 "nbformat_minor": 5
}
