{
 "cells": [
  {
   "cell_type": "code",
   "execution_count": 1,
   "id": "ba99f72c",
   "metadata": {},
   "outputs": [
    {
     "name": "stdout",
     "output_type": "stream",
     "text": [
      "Cast <class 'int'>\n"
     ]
    }
   ],
   "source": [
    "print(\"Cast\", type(int(5.4)))"
   ]
  },
  {
   "cell_type": "code",
   "execution_count": 3,
   "id": "b95694d9",
   "metadata": {},
   "outputs": [
    {
     "name": "stdout",
     "output_type": "stream",
     "text": [
      "<class 'str'>\n"
     ]
    }
   ],
   "source": [
    "print(\"Cast\", type(str(5.4)))"
   ]
  },
  {
   "cell_type": "code",
   "execution_count": 4,
   "id": "5af2e648",
   "metadata": {},
   "outputs": [
    {
     "name": "stdout",
     "output_type": "stream",
     "text": [
      "16/12/1978\n"
     ]
    }
   ],
   "source": [
    "print(16, 12, 1978, sep='/')"
   ]
  },
  {
   "cell_type": "code",
   "execution_count": 4,
   "id": "f4b56639",
   "metadata": {},
   "outputs": [
    {
     "name": "stdout",
     "output_type": "stream",
     "text": [
      "0  1  2  3  4  5  6  7  8  9  "
     ]
    }
   ],
   "source": [
    "for x in range(0, 10):\n",
    "    print(x, ' ', end=\"\")"
   ]
  },
  {
   "cell_type": "code",
   "execution_count": 9,
   "id": "833893ae",
   "metadata": {},
   "outputs": [
    {
     "name": "stdout",
     "output_type": "stream",
     "text": [
      "6\n",
      "9\n",
      "12\n"
     ]
    }
   ],
   "source": [
    "l5 = [6, 9, 12]\n",
    "itr = iter(l5)\n",
    "print(next(itr))\n",
    "print(next(itr))\n",
    "print(next(itr))"
   ]
  },
  {
   "cell_type": "code",
   "execution_count": 15,
   "id": "2f57abcf",
   "metadata": {},
   "outputs": [
    {
     "name": "stdout",
     "output_type": "stream",
     "text": [
      "1\n",
      "2\n",
      "3\n",
      "100\n",
      "200\n",
      "300\n",
      "10\n",
      "20\n",
      "30\n"
     ]
    }
   ],
   "source": [
    "num_list = [[1, 2, 3], [100, 200, 300], [10, 20, 30]]\n",
    "\n",
    "for x in range(0, 3):\n",
    "    for y in range(0, 3):\n",
    "        print(num_list[x][y])"
   ]
  },
  {
   "cell_type": "code",
   "execution_count": 16,
   "id": "e953f451",
   "metadata": {},
   "outputs": [
    {
     "name": "stdout",
     "output_type": "stream",
     "text": [
      "[1, 2, 3]\n",
      "[100, 200, 300]\n",
      "[10, 20, 30]\n"
     ]
    }
   ],
   "source": [
    "num_list = [[1, 2, 3], [100, 200, 300], [10, 20, 30]]\n",
    "\n",
    "for x in range(0, 3):\n",
    "    #for y in range(0, 3):\n",
    "        print(num_list[x])"
   ]
  },
  {
   "cell_type": "code",
   "execution_count": 21,
   "id": "3c1c8b43",
   "metadata": {},
   "outputs": [
    {
     "name": "stdout",
     "output_type": "stream",
     "text": [
      "[0]\n",
      "[1]\n",
      "[2]\n"
     ]
    }
   ],
   "source": [
    "for x in range(0, 3):\n",
    "    #for y in range(0, 3):\n",
    "        print([x])"
   ]
  },
  {
   "cell_type": "code",
   "execution_count": 25,
   "id": "b54ca8de",
   "metadata": {},
   "outputs": [
    {
     "name": "stdout",
     "output_type": "stream",
     "text": [
      "10\n"
     ]
    }
   ],
   "source": [
    "def get_sum(*args):\n",
    "    sum = 0\n",
    "    for arg in args:\n",
    "        sum += arg\n",
    "    return sum\n",
    "\n",
    "print(get_sum(1, 2, 3, 4))"
   ]
  },
  {
   "cell_type": "code",
   "execution_count": 27,
   "id": "5482b33b",
   "metadata": {},
   "outputs": [
    {
     "name": "stdout",
     "output_type": "stream",
     "text": [
      "3 * 5 =  15\n"
     ]
    }
   ],
   "source": [
    "def mult_by(num):\n",
    "    return lambda x: x * num\n",
    "print(\"3 * 5 = \", (mult_by(3)(5)))"
   ]
  },
  {
   "cell_type": "code",
   "execution_count": 28,
   "id": "140cadec",
   "metadata": {},
   "outputs": [
    {
     "name": "stdout",
     "output_type": "stream",
     "text": [
      "0\n",
      "4\n",
      "8\n",
      "12\n",
      "16\n"
     ]
    }
   ],
   "source": [
    "def mult_list(list, func):\n",
    "    for x in list:\n",
    "        print(func(x))\n",
    "mult_by_4 = mult_by(4)\n",
    "mult_list(list(range(0, 5)), mult_by_4)"
   ]
  },
  {
   "cell_type": "code",
   "execution_count": 29,
   "id": "53ab6d80",
   "metadata": {},
   "outputs": [
    {
     "name": "stdout",
     "output_type": "stream",
     "text": [
      "[2, 4, 6, 8]\n"
     ]
    }
   ],
   "source": [
    "one_to_4 = range(1, 5)\n",
    "times2 = lambda x: x * 2\n",
    "print(list(map(times2, one_to_4)))"
   ]
  },
  {
   "cell_type": "code",
   "execution_count": 30,
   "id": "033ee33f",
   "metadata": {},
   "outputs": [
    {
     "name": "stdout",
     "output_type": "stream",
     "text": [
      "[2, 4, 6, 8]\n"
     ]
    }
   ],
   "source": [
    "print(list(range(2, 10, 2)))"
   ]
  },
  {
   "cell_type": "code",
   "execution_count": 32,
   "id": "00adeef2",
   "metadata": {},
   "outputs": [
    {
     "name": "stdout",
     "output_type": "stream",
     "text": [
      "[2, 4, 6, 8, 10]\n"
     ]
    }
   ],
   "source": [
    "print(list(filter((lambda x: x % 2 == 0), range(1, 11))))"
   ]
  },
  {
   "cell_type": "code",
   "execution_count": 48,
   "id": "37eb3b66",
   "metadata": {},
   "outputs": [
    {
     "data": {
      "text/plain": [
       "{'apple', 'banana', 'cherry', 'grapes', 'mango', 'orange'}"
      ]
     },
     "execution_count": 48,
     "metadata": {},
     "output_type": "execute_result"
    }
   ],
   "source": [
    "fruits = {\"apple\", \"banana\", \"cherry\"}\n",
    "more_fruits = [\"orange\", \"mango\", \"grapes\"]\n",
    "fruits.update(more_fruits)\n",
    "fruits"
   ]
  },
  {
   "cell_type": "code",
   "execution_count": null,
   "id": "139980f0",
   "metadata": {},
   "outputs": [],
   "source": []
  },
  {
   "cell_type": "code",
   "execution_count": null,
   "id": "42d3be66",
   "metadata": {},
   "outputs": [],
   "source": []
  }
 ],
 "metadata": {
  "kernelspec": {
   "display_name": "Python 3 (ipykernel)",
   "language": "python",
   "name": "python3"
  },
  "language_info": {
   "codemirror_mode": {
    "name": "ipython",
    "version": 3
   },
   "file_extension": ".py",
   "mimetype": "text/x-python",
   "name": "python",
   "nbconvert_exporter": "python",
   "pygments_lexer": "ipython3",
   "version": "3.9.12"
  }
 },
 "nbformat": 4,
 "nbformat_minor": 5
}
