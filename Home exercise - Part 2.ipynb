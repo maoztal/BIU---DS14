{
 "cells": [
  {
   "cell_type": "markdown",
   "metadata": {},
   "source": [
    "# Python Home Exercises"
   ]
  },
  {
   "cell_type": "markdown",
   "metadata": {},
   "source": [
    "## Functions in Python\n",
    " \n",
    "Create a function that converts any given time period (days, hours and minutes) into seconds. The input must include a string representing the time period and an integer representing the value of the time period. The function must be like this:\n",
    " \n",
    "<code>\n",
    "> convert2sec(23,'min')\n",
    "> 23 minutes = 1380 seconds\n",
    "</code>\n",
    "\n",
    "Please take into account the different ways users can input the parameters (see below the running examples)"
   ]
  },
  {
   "cell_type": "code",
   "execution_count": 23,
   "metadata": {},
   "outputs": [],
   "source": [
    "### your code\n",
    "def convert2sec (time, tframe):\n",
    "    if tframe.lower()[0] == 'h':\n",
    "        res = time * 3600\n",
    "        tf = 'hours'\n",
    "    elif tframe.lower()[0] == 'm':\n",
    "        res = time * 60\n",
    "        tf = 'minutes'\n",
    "    elif tframe.lower()[0] == 'd':\n",
    "        res = time * 60 * 60 * 24\n",
    "        tf = 'days'\n",
    "    else:\n",
    "        res = \"The data you have entered can't be calculated in\"\n",
    "        tf = tframe\n",
    "    return \"{} {} = {} seconds\".format(time, tf, res)"
   ]
  },
  {
   "cell_type": "code",
   "execution_count": 6,
   "metadata": {},
   "outputs": [],
   "source": [
    "def convert2sec (num, type_time):\n",
    "    try:\n",
    "        if 'H' in type_time or 'h' in type_time:\n",
    "            num = num * 3600\n",
    "        elif 'M' in type_time or 'm' in type_time:\n",
    "            num = num * 60\n",
    "        elif 'D' in type_time or 'd' in type_time:\n",
    "            num = num * 86400\n",
    "        return num\n",
    "    except:\n",
    "        print(\"The {} isn't valid type of time\". format(type_time))"
   ]
  },
  {
   "cell_type": "code",
   "execution_count": 19,
   "metadata": {},
   "outputs": [
    {
     "data": {
      "text/plain": [
       "'23 minutes = 1380 seconds'"
      ]
     },
     "execution_count": 19,
     "metadata": {},
     "output_type": "execute_result"
    }
   ],
   "source": [
    "convert2sec(23,'min')"
   ]
  },
  {
   "cell_type": "code",
   "execution_count": 20,
   "metadata": {},
   "outputs": [
    {
     "data": {
      "text/plain": [
       "'3 days = 259200 seconds'"
      ]
     },
     "execution_count": 20,
     "metadata": {},
     "output_type": "execute_result"
    }
   ],
   "source": [
    "convert2sec(3,'DAYS')"
   ]
  },
  {
   "cell_type": "code",
   "execution_count": 21,
   "metadata": {},
   "outputs": [
    {
     "data": {
      "text/plain": [
       "'10 hours = 36000 seconds'"
      ]
     },
     "execution_count": 21,
     "metadata": {},
     "output_type": "execute_result"
    }
   ],
   "source": [
    "convert2sec(10,'Hrs')"
   ]
  },
  {
   "cell_type": "code",
   "execution_count": 24,
   "metadata": {},
   "outputs": [
    {
     "data": {
      "text/plain": [
       "\"15 jyf = The data you have entered can't be calculated in seconds\""
      ]
     },
     "execution_count": 24,
     "metadata": {},
     "output_type": "execute_result"
    }
   ],
   "source": [
    "convert2sec(15, 'jyf')"
   ]
  },
  {
   "cell_type": "markdown",
   "metadata": {},
   "source": [
    "## Object Oriented Programming\n",
    "---\n",
    "<code></code>\n",
    "### Exercise: \n",
    " \n",
    "1. Write a class for cars. Each car has the following attributes:  \n",
    "    + Company \n",
    "    + Model \n",
    "    + BodyStyle \n",
    "    + Doors \n",
    "    + Cylinders \n",
    "    + Hybrid \n",
    " \n",
    "\n",
    "2. Create a method to retrieve and to set each of the attributes, and a constructor for printing the attribute values.\n",
    " \n",
    "3. Create objects for each of the following car models:\n",
    "\n",
    "    - Toyota Corola Sedan with 4 doors, 4 cylinder, hybrid\n",
    "    - Hyundai i30 Hatchback, 5 doors, 4 cylinder\n",
    "    - Fiat Tipo Wagon, 5 doors, 8 cylinder\n",
    "    - Seat Leon Hatchback, 3 doors, 4 cylinder\n",
    " \n",
    "\n",
    "4. Use the 'print' function to print each object attributes.\n",
    "\n",
    "<code></code>\n",
    "---"
   ]
  },
  {
   "cell_type": "code",
   "execution_count": 43,
   "metadata": {},
   "outputs": [],
   "source": [
    "class Cars():\n",
    "    def __init__(self, company = \"\", model = \"\", body_style = \"\", doors = 4, cylinders = 4, hybrid = False):\n",
    "        self.company, self.model, self.body_style, self.doors, self.cylinders, self.hybrid = company, model, body_style, doors, cylinders, hybrid\n",
    "    def setCompany (self, company):\n",
    "        self.company = company\n",
    "    def getCompany (self):\n",
    "        return self.company\n",
    "    def setModel (self, model):\n",
    "        self.model = model\n",
    "    def getModel (self):\n",
    "        return self.model\n",
    "    def setBodyStyle (self, body_style):\n",
    "        self.body_style = body_style\n",
    "    def getBodyStyle (self):\n",
    "        return self.body_style\n",
    "    def setDoors (self, doors):\n",
    "        self.doors = doors\n",
    "    def getDoors (self):\n",
    "        return self.doors\n",
    "    def setCylinders (self, cylinders):\n",
    "        self.cylinders = cylinders\n",
    "    def getCylinders (self):\n",
    "        return self.cylinders\n",
    "    def setHybrid (self, hybrid):\n",
    "        self.hybrid = hybrid\n",
    "    def getHybrid (self):\n",
    "        return self.hybrid\n",
    "    def __str__(self):\n",
    "        return\"\"\"Car company: {} \\nModel: {} \\nBody: {} \\nNum of doors: {} \\nNum of cylinders: {} \\nHybrid: {}\"\"\".format(self.company, self.model, self.body_style, self.doors, self.cylinders, self.hybrid)"
   ]
  },
  {
   "cell_type": "code",
   "execution_count": 44,
   "metadata": {},
   "outputs": [
    {
     "name": "stdout",
     "output_type": "stream",
     "text": [
      "Car company: Toyota \n",
      "Model: Corola \n",
      "Body: Sedan \n",
      "Num of doors: 4 \n",
      "Num of cylinders: 4 \n",
      "Hybrid: True\n"
     ]
    }
   ],
   "source": [
    "car1 = Cars('Toyota','Corola','Sedan',4,4,True)\n",
    "print(car1)"
   ]
  },
  {
   "cell_type": "code",
   "execution_count": 36,
   "metadata": {},
   "outputs": [
    {
     "data": {
      "text/plain": [
       "'Sedan'"
      ]
     },
     "execution_count": 36,
     "metadata": {},
     "output_type": "execute_result"
    }
   ],
   "source": [
    "car1.getBodyStyle()"
   ]
  },
  {
   "cell_type": "code",
   "execution_count": 37,
   "metadata": {},
   "outputs": [
    {
     "data": {
      "text/plain": [
       "4"
      ]
     },
     "execution_count": 37,
     "metadata": {},
     "output_type": "execute_result"
    }
   ],
   "source": [
    "car1.getCylinders()"
   ]
  },
  {
   "cell_type": "code",
   "execution_count": 45,
   "metadata": {},
   "outputs": [
    {
     "name": "stdout",
     "output_type": "stream",
     "text": [
      "Car company: Hyundai \n",
      "Model: i30 \n",
      "Body: Hatchback \n",
      "Num of doors: 5 \n",
      "Num of cylinders: 4 \n",
      "Hybrid: False\n"
     ]
    }
   ],
   "source": [
    "# Hyundai i30 Hatchback, 5 doors, 4 cylinder\n",
    "car2 = Cars('Hyundai', 'i30', 'Hatchback', 5, 4, False)\n",
    "print(car2)"
   ]
  }
 ],
 "metadata": {
  "kernelspec": {
   "display_name": "Python 3 (ipykernel)",
   "language": "python",
   "name": "python3"
  },
  "language_info": {
   "codemirror_mode": {
    "name": "ipython",
    "version": 3
   },
   "file_extension": ".py",
   "mimetype": "text/x-python",
   "name": "python",
   "nbconvert_exporter": "python",
   "pygments_lexer": "ipython3",
   "version": "3.9.12"
  }
 },
 "nbformat": 4,
 "nbformat_minor": 4
}
